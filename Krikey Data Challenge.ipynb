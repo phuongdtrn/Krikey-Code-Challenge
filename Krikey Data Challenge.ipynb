{
 "cells": [
  {
   "cell_type": "code",
   "execution_count": 2,
   "id": "9d015d69",
   "metadata": {},
   "outputs": [],
   "source": [
    "import pandas as pd\n",
    "import numpy as np\n",
    "import datetime as dt \n",
    "import matplotlib\n",
    "import seaborn as sns\n",
    "import matplotlib.pyplot as plt\n",
    "import io\n",
    "from geopy.geocoders import Nominatim\n",
    "from pandas.api.types import CategoricalDtype"
   ]
  },
  {
   "cell_type": "code",
   "execution_count": 3,
   "id": "2fb93d47",
   "metadata": {},
   "outputs": [],
   "source": [
    "pd.set_option('display.max_columns', None)"
   ]
  },
  {
   "cell_type": "code",
   "execution_count": 142,
   "id": "41b22845",
   "metadata": {},
   "outputs": [],
   "source": [
    "feed = pd.read_csv(\"feeds.csv\")\n",
    "user = pd.read_csv(\"users.csv\")\n",
    "video = pd.read_csv(\"videos.csv\")\n",
    "watchedVideo = pd.read_csv(\"watchedVideo.csv\")"
   ]
  },
  {
   "cell_type": "markdown",
   "id": "cb1adf8d",
   "metadata": {},
   "source": [
    "## Data Cleaning and Transformation"
   ]
  },
  {
   "cell_type": "markdown",
   "id": "0cb1381c",
   "metadata": {},
   "source": [
    "### Check for null values"
   ]
  },
  {
   "cell_type": "code",
   "execution_count": 143,
   "id": "f43ad72c",
   "metadata": {},
   "outputs": [
    {
     "data": {
      "text/plain": [
       "Unnamed: 0     0\n",
       "id             0\n",
       "created_at     0\n",
       "class          0\n",
       "coordinates    0\n",
       "dtype: int64"
      ]
     },
     "execution_count": 143,
     "metadata": {},
     "output_type": "execute_result"
    }
   ],
   "source": [
    "user.isna().sum()"
   ]
  },
  {
   "cell_type": "code",
   "execution_count": 144,
   "id": "2c9b41c9",
   "metadata": {},
   "outputs": [
    {
     "data": {
      "text/plain": [
       "Unnamed: 0      0\n",
       "id              0\n",
       "attribute_id    0\n",
       "music_id        0\n",
       "animation_id    0\n",
       "duration        0\n",
       "creator         0\n",
       "created_at      0\n",
       "num_shares      0\n",
       "game_id         0\n",
       "is_ar           0\n",
       "dtype: int64"
      ]
     },
     "execution_count": 144,
     "metadata": {},
     "output_type": "execute_result"
    }
   ],
   "source": [
    "video.isna().sum()"
   ]
  },
  {
   "cell_type": "code",
   "execution_count": 145,
   "id": "e971242a",
   "metadata": {},
   "outputs": [
    {
     "data": {
      "text/plain": [
       "Unnamed: 0     0\n",
       "coordinates    0\n",
       "os             0\n",
       "duration       0\n",
       "videoId        0\n",
       "userId         0\n",
       "appVersion     0\n",
       "dateTime       0\n",
       "feedId         0\n",
       "dtype: int64"
      ]
     },
     "execution_count": 145,
     "metadata": {},
     "output_type": "execute_result"
    }
   ],
   "source": [
    "watchedVideo.isna().sum()"
   ]
  },
  {
   "cell_type": "markdown",
   "id": "30620d91",
   "metadata": {},
   "source": [
    "## Check distributions and outliers"
   ]
  },
  {
   "cell_type": "code",
   "execution_count": 146,
   "id": "fc964abb",
   "metadata": {},
   "outputs": [
    {
     "data": {
      "text/html": [
       "<div>\n",
       "<style scoped>\n",
       "    .dataframe tbody tr th:only-of-type {\n",
       "        vertical-align: middle;\n",
       "    }\n",
       "\n",
       "    .dataframe tbody tr th {\n",
       "        vertical-align: top;\n",
       "    }\n",
       "\n",
       "    .dataframe thead th {\n",
       "        text-align: right;\n",
       "    }\n",
       "</style>\n",
       "<table border=\"1\" class=\"dataframe\">\n",
       "  <thead>\n",
       "    <tr style=\"text-align: right;\">\n",
       "      <th></th>\n",
       "      <th>id</th>\n",
       "      <th>created_at</th>\n",
       "      <th>class</th>\n",
       "      <th>user_coord</th>\n",
       "    </tr>\n",
       "  </thead>\n",
       "  <tbody>\n",
       "    <tr>\n",
       "      <th>0</th>\n",
       "      <td>37e369a8-4477-4d5d-acd7-4e3b8059586e</td>\n",
       "      <td>2021-03-23 00:24:53</td>\n",
       "      <td>Creator</td>\n",
       "      <td>('36.76775', '2.95924')</td>\n",
       "    </tr>\n",
       "    <tr>\n",
       "      <th>1</th>\n",
       "      <td>27cf0bb6-3488-4662-916d-3ad04eeec9ca</td>\n",
       "      <td>2021-04-09 19:55:07</td>\n",
       "      <td>Viewer</td>\n",
       "      <td>('43.71032', '-1.05366')</td>\n",
       "    </tr>\n",
       "    <tr>\n",
       "      <th>2</th>\n",
       "      <td>5ebd5e12-ba2a-4bf9-b7e4-92ad24711cd4</td>\n",
       "      <td>2021-04-08 21:48:45</td>\n",
       "      <td>Super Gamer</td>\n",
       "      <td>('51.26', '-2.1875')</td>\n",
       "    </tr>\n",
       "    <tr>\n",
       "      <th>3</th>\n",
       "      <td>30986592-0cbf-43bb-83ed-7501ab3bd373</td>\n",
       "      <td>2021-05-15 00:45:51</td>\n",
       "      <td>Creator</td>\n",
       "      <td>('40.65538', '-74.38987')</td>\n",
       "    </tr>\n",
       "    <tr>\n",
       "      <th>4</th>\n",
       "      <td>25b49125-34d1-4694-a4a9-8415bcc3567b</td>\n",
       "      <td>2021-07-05 04:08:53</td>\n",
       "      <td>Viewer</td>\n",
       "      <td>('35.61452', '-88.81395')</td>\n",
       "    </tr>\n",
       "  </tbody>\n",
       "</table>\n",
       "</div>"
      ],
      "text/plain": [
       "                                     id           created_at        class  \\\n",
       "0  37e369a8-4477-4d5d-acd7-4e3b8059586e  2021-03-23 00:24:53      Creator   \n",
       "1  27cf0bb6-3488-4662-916d-3ad04eeec9ca  2021-04-09 19:55:07       Viewer   \n",
       "2  5ebd5e12-ba2a-4bf9-b7e4-92ad24711cd4  2021-04-08 21:48:45  Super Gamer   \n",
       "3  30986592-0cbf-43bb-83ed-7501ab3bd373  2021-05-15 00:45:51      Creator   \n",
       "4  25b49125-34d1-4694-a4a9-8415bcc3567b  2021-07-05 04:08:53       Viewer   \n",
       "\n",
       "                  user_coord  \n",
       "0    ('36.76775', '2.95924')  \n",
       "1   ('43.71032', '-1.05366')  \n",
       "2       ('51.26', '-2.1875')  \n",
       "3  ('40.65538', '-74.38987')  \n",
       "4  ('35.61452', '-88.81395')  "
      ]
     },
     "execution_count": 146,
     "metadata": {},
     "output_type": "execute_result"
    }
   ],
   "source": [
    "user = user[['id', 'created_at', 'class', 'coordinates']]\n",
    "user.rename(columns={'coordinates': 'user_coord'}, inplace=True)\n",
    "user.head()"
   ]
  },
  {
   "cell_type": "markdown",
   "id": "769b4adf",
   "metadata": {},
   "source": [
    "### Distribution in User dataframe"
   ]
  },
  {
   "cell_type": "code",
   "execution_count": 151,
   "id": "afae2176",
   "metadata": {},
   "outputs": [
    {
     "data": {
      "text/plain": [
       "Text(0.5, 1.0, 'Distribution of class')"
      ]
     },
     "execution_count": 151,
     "metadata": {},
     "output_type": "execute_result"
    },
    {
     "data": {
      "image/png": "[encoded data removed]",
      "text/plain": [
       "<Figure size 432x288 with 1 Axes>"
      ]
     },
     "metadata": {
      "needs_background": "light"
     },
     "output_type": "display_data"
    }
   ],
   "source": [
    "user['class'].value_counts().plot(kind='bar')\n",
    "plt.xticks([0,1,2,3, 4],['Gamer', 'Super Gamer', 'Super Creator', 'Creator', 'Viewer'])\n",
    "plt.title(\"Distribution of class\")"
   ]
  },
  {
   "cell_type": "code",
   "execution_count": 148,
   "id": "e29188d5",
   "metadata": {},
   "outputs": [
    {
     "name": "stdout",
     "output_type": "stream",
     "text": [
      "2021-01-01 02:31:57\n",
      "2021-12-15 06:52:35\n"
     ]
    }
   ],
   "source": [
    "print(user['created_at'].min())\n",
    "print(user['created_at'].max())"
   ]
  },
  {
   "cell_type": "markdown",
   "id": "24af7e49",
   "metadata": {},
   "source": [
    "### Distribution in Video dataframe"
   ]
  },
  {
   "cell_type": "code",
   "execution_count": 153,
   "id": "f4f10eed",
   "metadata": {},
   "outputs": [
    {
     "name": "stderr",
     "output_type": "stream",
     "text": [
      "/Users/phuongtran/opt/anaconda3/lib/python3.9/site-packages/seaborn/_decorators.py:36: FutureWarning: Pass the following variable as a keyword arg: x. From version 0.12, the only valid positional argument will be `data`, and passing other arguments without an explicit keyword will result in an error or misinterpretation.\n",
      "  warnings.warn(\n"
     ]
    },
    {
     "data": {
      "text/plain": [
       "Text(0.5, 1.0, 'Box Plot for Video Duration')"
      ]
     },
     "execution_count": 153,
     "metadata": {},
     "output_type": "execute_result"
    },
    {
     "data": {
      "image/png": "[encoded data removed]",
      "text/plain": [
       "<Figure size 720x360 with 1 Axes>"
      ]
     },
     "metadata": {
      "needs_background": "light"
     },
     "output_type": "display_data"
    }
   ],
   "source": [
    "fig = plt.figure()\n",
    "fig.set_figheight(5)\n",
    "fig.set_figwidth(10)\n",
    "ax = fig.add_subplot(121)\n",
    "sns.boxplot(video['duration'])\n",
    "ax.set_title('Box Plot for Video Duration')"
   ]
  },
  {
   "cell_type": "code",
   "execution_count": 154,
   "id": "b7b95e0a",
   "metadata": {},
   "outputs": [
    {
     "data": {
      "text/plain": [
       "25e7fab9-abfb-4a74-a8cb-c3adbc6e3531    483\n",
       "c3328117-4129-4d8b-8250-9479e9c6a389    474\n",
       "7ef48c9e-776d-4d24-8c2b-e3675b295767    466\n",
       "80f5b187-f6e6-40f2-9b6e-fe62b67049a8    465\n",
       "4f91d2b6-bf42-4d3f-a8e8-acc3b07f647e    463\n",
       "4712e9e6-bef1-4646-b21e-ca5336901bf9    460\n",
       "06c496ee-e884-42f9-ba39-010a66ed5296    447\n",
       "02b2b662-1b39-4d91-9417-dddc9451d8e1    442\n",
       "3390e253-7815-4a3c-8169-fd2ab532e166    439\n",
       "e339ba35-ffef-403b-a17c-dd218fdbb915    435\n",
       "30fa7949-1cb6-44b1-9c7b-42c7421fc504    426\n",
       "Name: attribute_id, dtype: int64"
      ]
     },
     "execution_count": 154,
     "metadata": {},
     "output_type": "execute_result"
    }
   ],
   "source": [
    "video['attribute_id'].value_counts()"
   ]
  },
  {
   "cell_type": "code",
   "execution_count": 155,
   "id": "e0120d81",
   "metadata": {},
   "outputs": [
    {
     "data": {
      "text/plain": [
       "c3721b09-6896-465a-8e13-4d73efd06874    550\n",
       "b5b679a5-e769-4d95-82a6-f75e439b1ef9    548\n",
       "19e4db13-d854-4913-a8ca-3612ee1a6071    512\n",
       "8ff50feb-3b5d-4dd0-84b0-8409753bd166    509\n",
       "da2fc9b0-32d5-4a1b-8b40-2706eb133bf0    491\n",
       "3de11516-8627-47c3-98ab-265b429cac91    488\n",
       "d53234f4-1efb-4299-97c1-11658118cba5    481\n",
       "4ee0de5b-e27f-4d73-a3c6-52cf26e36c54    475\n",
       "e2bf5d12-edc2-47cb-b23f-1f4f7c1a2292    474\n",
       "1f80192e-3bff-41b8-b272-7062b9d7b6de    472\n",
       "Name: music_id, dtype: int64"
      ]
     },
     "execution_count": 155,
     "metadata": {},
     "output_type": "execute_result"
    }
   ],
   "source": [
    "video['music_id'].value_counts()"
   ]
  },
  {
   "cell_type": "code",
   "execution_count": 156,
   "id": "818f71ae",
   "metadata": {},
   "outputs": [
    {
     "data": {
      "text/plain": [
       "d167d0af-a662-48ad-bb39-5aa306fc8141    359\n",
       "6d7a0545-0bca-4bf4-a306-931e57d8ffe2    355\n",
       "435320a3-8d3d-4a9d-b76b-2f2e268f7619    346\n",
       "4cfc4892-2c7e-46e3-8399-5b138285d394    345\n",
       "716c02df-bd3a-41c9-b2be-86fb74ff3255    340\n",
       "542d7532-e88a-48ca-826f-c11f0f615bc4    340\n",
       "b5349df0-23dd-4973-b47d-ae5df5a4e247    340\n",
       "b7bd5204-2976-4eb0-ab71-508a848bc325    337\n",
       "ace4c5e2-ef86-429a-aad3-23bef7a1c9f1    335\n",
       "ff1a548b-e307-474c-a405-6370ca1a0639    333\n",
       "17dab81c-6180-4a4b-b539-91978a726cfd    330\n",
       "2029f213-1719-4108-8125-25d465cf475d    325\n",
       "ab5dc9f1-deb4-44d4-88ff-62e473a060f4    315\n",
       "7410fff9-7a21-4c93-8a54-a6f4c9e55b04    309\n",
       "08dda558-a151-45a2-8e43-1ba6f2891800    291\n",
       "Name: animation_id, dtype: int64"
      ]
     },
     "execution_count": 156,
     "metadata": {},
     "output_type": "execute_result"
    }
   ],
   "source": [
    "video['animation_id'].value_counts()"
   ]
  },
  {
   "cell_type": "code",
   "execution_count": 158,
   "id": "4c946835",
   "metadata": {},
   "outputs": [
    {
     "data": {
      "text/plain": [
       "8bd4c7be-fe87-45ad-990d-d131cd3d9c77    1021\n",
       "66653b7c-b600-49b3-a58c-d1862e91d426    1010\n",
       "6ca0f645-a16b-42b0-9dc2-2ae952c83591    1002\n",
       "4d54f6ab-cd8f-43a5-9be0-c497c2c32d24     997\n",
       "2609b6b5-3a08-451e-bce5-75fe506559d2     970\n",
       "Name: game_id, dtype: int64"
      ]
     },
     "execution_count": 158,
     "metadata": {},
     "output_type": "execute_result"
    }
   ],
   "source": [
    "video['game_id'].value_counts()"
   ]
  },
  {
   "cell_type": "code",
   "execution_count": 161,
   "id": "8fd16812",
   "metadata": {},
   "outputs": [
    {
     "data": {
      "text/plain": [
       "Text(0.5, 1.0, 'Distribution of AR Videos')"
      ]
     },
     "execution_count": 161,
     "metadata": {},
     "output_type": "execute_result"
    },
    {
     "data": {
      "image/png": "[encoded data removed]",
      "text/plain": [
       "<Figure size 432x288 with 1 Axes>"
      ]
     },
     "metadata": {
      "needs_background": "light"
     },
     "output_type": "display_data"
    }
   ],
   "source": [
    "video['is_ar'].value_counts().plot(kind='bar')\n",
    "plt.xticks([0,1],['True', 'False'])\n",
    "plt.title(\"Distribution of AR Videos\")"
   ]
  },
  {
   "cell_type": "code",
   "execution_count": 160,
   "id": "c9bbfefd",
   "metadata": {},
   "outputs": [
    {
     "name": "stdout",
     "output_type": "stream",
     "text": [
      "2021-01-11 12:50:38\n",
      "2021-12-15 11:09:05\n"
     ]
    }
   ],
   "source": [
    "print(video['created_at'].min())\n",
    "print(video['created_at'].max())"
   ]
  },
  {
   "cell_type": "markdown",
   "id": "979a544e",
   "metadata": {},
   "source": [
    "### Distribution in watchedVideo dataframe"
   ]
  },
  {
   "cell_type": "code",
   "execution_count": 162,
   "id": "772eb13c",
   "metadata": {},
   "outputs": [
    {
     "data": {
      "text/plain": [
       "Text(0.5, 1.0, 'Distribution of os')"
      ]
     },
     "execution_count": 162,
     "metadata": {},
     "output_type": "execute_result"
    },
    {
     "data": {
      "image/png": "[encoded data removed]",
      "text/plain": [
       "<Figure size 432x288 with 1 Axes>"
      ]
     },
     "metadata": {
      "needs_background": "light"
     },
     "output_type": "display_data"
    }
   ],
   "source": [
    "watchedVideo['os'].value_counts().plot(kind='bar')\n",
    "plt.xticks([0,1],['Android', 'iOS'])\n",
    "plt.title(\"Distribution of os\")"
   ]
  },
  {
   "cell_type": "markdown",
   "id": "070b108a",
   "metadata": {},
   "source": [
    "Since both Android and iOS have the same amount of users who interacted with the videos (watching video), Krikey should make product change similar to both platform."
   ]
  },
  {
   "cell_type": "code",
   "execution_count": 163,
   "id": "5e4cb692",
   "metadata": {},
   "outputs": [
    {
     "name": "stderr",
     "output_type": "stream",
     "text": [
      "/Users/phuongtran/opt/anaconda3/lib/python3.9/site-packages/seaborn/_decorators.py:36: FutureWarning: Pass the following variable as a keyword arg: x. From version 0.12, the only valid positional argument will be `data`, and passing other arguments without an explicit keyword will result in an error or misinterpretation.\n",
      "  warnings.warn(\n"
     ]
    },
    {
     "data": {
      "text/plain": [
       "Text(0.5, 1.0, 'Box Plot for Duration Watched Video')"
      ]
     },
     "execution_count": 163,
     "metadata": {},
     "output_type": "execute_result"
    },
    {
     "data": {
      "image/png": "[encoded data removed]",
      "text/plain": [
       "<Figure size 720x360 with 1 Axes>"
      ]
     },
     "metadata": {
      "needs_background": "light"
     },
     "output_type": "display_data"
    }
   ],
   "source": [
    "fig = plt.figure()\n",
    "fig.set_figheight(5)\n",
    "fig.set_figwidth(10)\n",
    "ax = fig.add_subplot(121)\n",
    "sns.boxplot(watchedVideo['duration'])\n",
    "ax.set_title('Box Plot for Duration Watched Video')"
   ]
  },
  {
   "cell_type": "code",
   "execution_count": 164,
   "id": "7902397d",
   "metadata": {},
   "outputs": [
    {
     "data": {
      "text/plain": [
       "2.1.2    5134\n",
       "3.0.0    5086\n",
       "2.2.3    5070\n",
       "2.1.0    4978\n",
       "2.2.4    4967\n",
       "2.2.2    4965\n",
       "3.0.1    4961\n",
       "2.2.1    4960\n",
       "2.1.1    4951\n",
       "2.2.0    4928\n",
       "Name: appVersion, dtype: int64"
      ]
     },
     "execution_count": 164,
     "metadata": {},
     "output_type": "execute_result"
    }
   ],
   "source": [
    "watchedVideo['appVersion'].value_counts()"
   ]
  },
  {
   "cell_type": "code",
   "execution_count": 217,
   "id": "c046a1ce",
   "metadata": {},
   "outputs": [
    {
     "name": "stdout",
     "output_type": "stream",
     "text": [
      "2021-01-20 15:38:52\n",
      "2021-12-15 11:20:06\n"
     ]
    }
   ],
   "source": [
    "print(watchedVideo['dateTime'].min())\n",
    "print(watchedVideo['dateTime'].max())"
   ]
  },
  {
   "cell_type": "markdown",
   "id": "9f05cd71",
   "metadata": {},
   "source": [
    "###  Data Transformation"
   ]
  },
  {
   "cell_type": "markdown",
   "id": "77b8fe52",
   "metadata": {},
   "source": [
    "#### Coordinates"
   ]
  },
  {
   "cell_type": "code",
   "execution_count": 218,
   "id": "034d5be5",
   "metadata": {},
   "outputs": [],
   "source": [
    "watchedVideo['watch_lat'] = watchedVideo['coordinates'].str.split(',', expand=True)[0]\n",
    "watchedVideo['watch_long'] = watchedVideo['coordinates'].str.split(',', expand=True)[1]\n",
    "\n",
    "watchedVideo['watch_lat'] = watchedVideo['watch_lat'].str[10:]\n",
    "watchedVideo['watch_lat'] = watchedVideo['watch_lat'].str[:-2]\n",
    "watchedVideo['watch_long'] = watchedVideo['watch_long'].str[10:]\n",
    "watchedVideo['watch_long'] = watchedVideo['watch_long'].str[:-3]\n",
    "\n",
    "watchedVideo['watch_lat'] = watchedVideo['watch_lat'].astype('str') \n",
    "watchedVideo['watch_long'] = watchedVideo['watch_long'].astype('str') "
   ]
  },
  {
   "cell_type": "code",
   "execution_count": 219,
   "id": "cc915b29",
   "metadata": {},
   "outputs": [
    {
     "data": {
      "text/html": [
       "<div>\n",
       "<style scoped>\n",
       "    .dataframe tbody tr th:only-of-type {\n",
       "        vertical-align: middle;\n",
       "    }\n",
       "\n",
       "    .dataframe tbody tr th {\n",
       "        vertical-align: top;\n",
       "    }\n",
       "\n",
       "    .dataframe thead th {\n",
       "        text-align: right;\n",
       "    }\n",
       "</style>\n",
       "<table border=\"1\" class=\"dataframe\">\n",
       "  <thead>\n",
       "    <tr style=\"text-align: right;\">\n",
       "      <th></th>\n",
       "      <th>Unnamed: 0</th>\n",
       "      <th>coordinates</th>\n",
       "      <th>os</th>\n",
       "      <th>duration</th>\n",
       "      <th>videoId</th>\n",
       "      <th>userId</th>\n",
       "      <th>appVersion</th>\n",
       "      <th>dateTime</th>\n",
       "      <th>feedId</th>\n",
       "      <th>month_watch</th>\n",
       "      <th>watch_lat</th>\n",
       "      <th>watch_long</th>\n",
       "    </tr>\n",
       "  </thead>\n",
       "  <tbody>\n",
       "    <tr>\n",
       "      <th>0</th>\n",
       "      <td>0</td>\n",
       "      <td>(Decimal('14.439490'), Decimal('105.291233'))</td>\n",
       "      <td>iOS</td>\n",
       "      <td>3.95</td>\n",
       "      <td>722e110c-2f81-46aa-9c25-4d26fd77519f</td>\n",
       "      <td>317a2bc3-5f95-4d35-9a94-1f2f38424c4f</td>\n",
       "      <td>2.2.2</td>\n",
       "      <td>2021-08-04 09:39:07</td>\n",
       "      <td>30134b9e-1b79-43fb-b0c5-373af9237b2c</td>\n",
       "      <td>8</td>\n",
       "      <td>14.439490</td>\n",
       "      <td>105.291233</td>\n",
       "    </tr>\n",
       "    <tr>\n",
       "      <th>1</th>\n",
       "      <td>1</td>\n",
       "      <td>(Decimal('40.866935'), Decimal('-73.845013'))</td>\n",
       "      <td>iOS</td>\n",
       "      <td>5.95</td>\n",
       "      <td>cc10d153-37f9-42b5-8d78-2365908acf2b</td>\n",
       "      <td>db031c3d-69e4-4c06-91fe-e9be0a3c173c</td>\n",
       "      <td>2.2.1</td>\n",
       "      <td>2021-07-06 16:32:10</td>\n",
       "      <td>8078efe7-5bae-4528-9a66-b85904cc73ac</td>\n",
       "      <td>7</td>\n",
       "      <td>40.866935</td>\n",
       "      <td>-73.845013</td>\n",
       "    </tr>\n",
       "    <tr>\n",
       "      <th>2</th>\n",
       "      <td>2</td>\n",
       "      <td>(Decimal('48.666850'), Decimal('9.359456'))</td>\n",
       "      <td>iOS</td>\n",
       "      <td>0.69</td>\n",
       "      <td>7f3f7fce-f2ec-4dfd-bac8-92dc7865a365</td>\n",
       "      <td>8fb18b66-f548-42a7-b394-c1be963cac29</td>\n",
       "      <td>2.2.0</td>\n",
       "      <td>2021-12-06 01:42:02</td>\n",
       "      <td>6894af29-56cc-4b4a-8ee6-be9b3cb3e7f1</td>\n",
       "      <td>12</td>\n",
       "      <td>48.666850</td>\n",
       "      <td>9.359456</td>\n",
       "    </tr>\n",
       "    <tr>\n",
       "      <th>3</th>\n",
       "      <td>3</td>\n",
       "      <td>(Decimal('5.172365'), Decimal('-74.439009'))</td>\n",
       "      <td>Android</td>\n",
       "      <td>2.81</td>\n",
       "      <td>8ffc47e3-32ce-4d24-a990-9baac556603b</td>\n",
       "      <td>960fb90e-eddc-478a-a64a-04b9dded3a05</td>\n",
       "      <td>2.1.2</td>\n",
       "      <td>2021-12-04 21:02:50</td>\n",
       "      <td>42568c8a-efbe-4293-81a3-513e33094ade</td>\n",
       "      <td>12</td>\n",
       "      <td>5.172365</td>\n",
       "      <td>-74.439009</td>\n",
       "    </tr>\n",
       "    <tr>\n",
       "      <th>4</th>\n",
       "      <td>4</td>\n",
       "      <td>(Decimal('4.063707'), Decimal('9.606159'))</td>\n",
       "      <td>iOS</td>\n",
       "      <td>5.88</td>\n",
       "      <td>47e70477-7511-4bd0-801b-1651f951002f</td>\n",
       "      <td>1ce0c003-25e7-473f-8796-0fe04d6c275c</td>\n",
       "      <td>2.1.2</td>\n",
       "      <td>2021-11-28 16:12:39</td>\n",
       "      <td>582520b2-b30a-4ecb-b1b4-1806672fcfc4</td>\n",
       "      <td>11</td>\n",
       "      <td>4.063707</td>\n",
       "      <td>9.606159</td>\n",
       "    </tr>\n",
       "  </tbody>\n",
       "</table>\n",
       "</div>"
      ],
      "text/plain": [
       "   Unnamed: 0                                    coordinates       os  \\\n",
       "0           0  (Decimal('14.439490'), Decimal('105.291233'))      iOS   \n",
       "1           1  (Decimal('40.866935'), Decimal('-73.845013'))      iOS   \n",
       "2           2    (Decimal('48.666850'), Decimal('9.359456'))      iOS   \n",
       "3           3   (Decimal('5.172365'), Decimal('-74.439009'))  Android   \n",
       "4           4     (Decimal('4.063707'), Decimal('9.606159'))      iOS   \n",
       "\n",
       "   duration                               videoId  \\\n",
       "0      3.95  722e110c-2f81-46aa-9c25-4d26fd77519f   \n",
       "1      5.95  cc10d153-37f9-42b5-8d78-2365908acf2b   \n",
       "2      0.69  7f3f7fce-f2ec-4dfd-bac8-92dc7865a365   \n",
       "3      2.81  8ffc47e3-32ce-4d24-a990-9baac556603b   \n",
       "4      5.88  47e70477-7511-4bd0-801b-1651f951002f   \n",
       "\n",
       "                                 userId appVersion            dateTime  \\\n",
       "0  317a2bc3-5f95-4d35-9a94-1f2f38424c4f      2.2.2 2021-08-04 09:39:07   \n",
       "1  db031c3d-69e4-4c06-91fe-e9be0a3c173c      2.2.1 2021-07-06 16:32:10   \n",
       "2  8fb18b66-f548-42a7-b394-c1be963cac29      2.2.0 2021-12-06 01:42:02   \n",
       "3  960fb90e-eddc-478a-a64a-04b9dded3a05      2.1.2 2021-12-04 21:02:50   \n",
       "4  1ce0c003-25e7-473f-8796-0fe04d6c275c      2.1.2 2021-11-28 16:12:39   \n",
       "\n",
       "                                 feedId  month_watch  watch_lat  watch_long  \n",
       "0  30134b9e-1b79-43fb-b0c5-373af9237b2c            8  14.439490  105.291233  \n",
       "1  8078efe7-5bae-4528-9a66-b85904cc73ac            7  40.866935  -73.845013  \n",
       "2  6894af29-56cc-4b4a-8ee6-be9b3cb3e7f1           12  48.666850    9.359456  \n",
       "3  42568c8a-efbe-4293-81a3-513e33094ade           12   5.172365  -74.439009  \n",
       "4  582520b2-b30a-4ecb-b1b4-1806672fcfc4           11   4.063707    9.606159  "
      ]
     },
     "execution_count": 219,
     "metadata": {},
     "output_type": "execute_result"
    }
   ],
   "source": [
    "watchedVideo.head()"
   ]
  },
  {
   "cell_type": "code",
   "execution_count": 220,
   "id": "b0cfd134",
   "metadata": {},
   "outputs": [
    {
     "name": "stdout",
     "output_type": "stream",
     "text": [
      "('14.439490', '105.291233')\n"
     ]
    }
   ],
   "source": [
    "watchedVideo['coord'] = watchedVideo.apply(lambda row: (str(row.watch_lat),str(row.watch_long)),axis=1)\n",
    "print(watchedVideo.coord[0])"
   ]
  },
  {
   "cell_type": "code",
   "execution_count": null,
   "id": "d3cf4b27",
   "metadata": {},
   "outputs": [],
   "source": [
    "locator = Nominatim(user_agent=\"myGeocoder\")\n",
    "watchedVideo['country'] = watchedVideo.apply(lambda row: locator.reverse(row.coord).country,axis=1)"
   ]
  },
  {
   "cell_type": "markdown",
   "id": "aa273b33",
   "metadata": {},
   "source": [
    "When turning coordinators to country, all users watched videos from Thailand."
   ]
  },
  {
   "cell_type": "markdown",
   "id": "101131bd",
   "metadata": {},
   "source": [
    "#### How long did it take for users from the time they first registered to the first time they created video"
   ]
  },
  {
   "cell_type": "code",
   "execution_count": 221,
   "id": "fe609254",
   "metadata": {},
   "outputs": [],
   "source": [
    "user_first_vid = video.groupby('creator').agg({'created_at': 'min'})\n",
    "user_first_vid =user_first_vid.reset_index()\n",
    "user_first_vid = user_first_vid.merge(user, left_on = 'creator', right_on = 'id')"
   ]
  },
  {
   "cell_type": "code",
   "execution_count": 222,
   "id": "6932283e",
   "metadata": {},
   "outputs": [],
   "source": [
    "user_first_vid.rename(columns={'created_at_x':'first_vid', 'created_at_y': 'register_date'}, inplace=True)\n",
    "user_first_vid = user_first_vid[['creator', 'first_vid', 'register_date']]\n",
    "user_first_vid['date_diff'] = (user_first_vid['first_vid'] - user_first_vid['register_date']).dt.days"
   ]
  },
  {
   "cell_type": "code",
   "execution_count": 224,
   "id": "be814cbe",
   "metadata": {},
   "outputs": [
    {
     "data": {
      "text/html": [
       "<div>\n",
       "<style scoped>\n",
       "    .dataframe tbody tr th:only-of-type {\n",
       "        vertical-align: middle;\n",
       "    }\n",
       "\n",
       "    .dataframe tbody tr th {\n",
       "        vertical-align: top;\n",
       "    }\n",
       "\n",
       "    .dataframe thead th {\n",
       "        text-align: right;\n",
       "    }\n",
       "</style>\n",
       "<table border=\"1\" class=\"dataframe\">\n",
       "  <thead>\n",
       "    <tr style=\"text-align: right;\">\n",
       "      <th></th>\n",
       "      <th>creator</th>\n",
       "      <th>first_vid</th>\n",
       "      <th>register_date</th>\n",
       "      <th>date_diff</th>\n",
       "    </tr>\n",
       "  </thead>\n",
       "  <tbody>\n",
       "    <tr>\n",
       "      <th>0</th>\n",
       "      <td>000a9443-7efe-4db6-a4eb-56ca7a6ebe9a</td>\n",
       "      <td>2021-05-04 14:39:57</td>\n",
       "      <td>2021-02-16 09:13:55</td>\n",
       "      <td>77</td>\n",
       "    </tr>\n",
       "    <tr>\n",
       "      <th>1</th>\n",
       "      <td>002115d7-1cf1-4829-a8e9-0f0e2c4e823a</td>\n",
       "      <td>2021-11-15 15:19:24</td>\n",
       "      <td>2021-08-10 23:08:25</td>\n",
       "      <td>96</td>\n",
       "    </tr>\n",
       "    <tr>\n",
       "      <th>2</th>\n",
       "      <td>007aef92-9b6b-4cf8-8a15-4d27af281f22</td>\n",
       "      <td>2021-01-19 21:56:05</td>\n",
       "      <td>2021-01-05 18:11:32</td>\n",
       "      <td>14</td>\n",
       "    </tr>\n",
       "    <tr>\n",
       "      <th>3</th>\n",
       "      <td>0148ea52-4d63-43e9-a4b7-f3278a048e64</td>\n",
       "      <td>2021-07-31 01:28:14</td>\n",
       "      <td>2021-04-22 22:47:56</td>\n",
       "      <td>99</td>\n",
       "    </tr>\n",
       "    <tr>\n",
       "      <th>4</th>\n",
       "      <td>015019dd-a6ff-4d3e-9b21-13a42845aae0</td>\n",
       "      <td>2021-10-23 06:05:58</td>\n",
       "      <td>2021-10-16 11:54:11</td>\n",
       "      <td>6</td>\n",
       "    </tr>\n",
       "  </tbody>\n",
       "</table>\n",
       "</div>"
      ],
      "text/plain": [
       "                                creator           first_vid  \\\n",
       "0  000a9443-7efe-4db6-a4eb-56ca7a6ebe9a 2021-05-04 14:39:57   \n",
       "1  002115d7-1cf1-4829-a8e9-0f0e2c4e823a 2021-11-15 15:19:24   \n",
       "2  007aef92-9b6b-4cf8-8a15-4d27af281f22 2021-01-19 21:56:05   \n",
       "3  0148ea52-4d63-43e9-a4b7-f3278a048e64 2021-07-31 01:28:14   \n",
       "4  015019dd-a6ff-4d3e-9b21-13a42845aae0 2021-10-23 06:05:58   \n",
       "\n",
       "        register_date  date_diff  \n",
       "0 2021-02-16 09:13:55         77  \n",
       "1 2021-08-10 23:08:25         96  \n",
       "2 2021-01-05 18:11:32         14  \n",
       "3 2021-04-22 22:47:56         99  \n",
       "4 2021-10-16 11:54:11          6  "
      ]
     },
     "execution_count": 224,
     "metadata": {},
     "output_type": "execute_result"
    }
   ],
   "source": [
    "user_first_vid.head()"
   ]
  },
  {
   "cell_type": "code",
   "execution_count": 225,
   "id": "213a70b6",
   "metadata": {},
   "outputs": [
    {
     "data": {
      "text/plain": [
       "<AxesSubplot:>"
      ]
     },
     "execution_count": 225,
     "metadata": {},
     "output_type": "execute_result"
    },
    {
     "data": {
      "image/png": "[encoded data removed]",
      "text/plain": [
       "<Figure size 432x288 with 1 Axes>"
      ]
     },
     "metadata": {
      "needs_background": "light"
     },
     "output_type": "display_data"
    }
   ],
   "source": [
    "user_first_vid['date_diff'].hist()"
   ]
  },
  {
   "cell_type": "code",
   "execution_count": 257,
   "id": "7b0a5647",
   "metadata": {},
   "outputs": [
    {
     "data": {
      "text/plain": [
       "Text(0, 0.5, 'Count')"
      ]
     },
     "execution_count": 257,
     "metadata": {},
     "output_type": "execute_result"
    },
    {
     "data": {
      "image/png": "[encoded data removed]",
      "text/plain": [
       "<Figure size 432x288 with 1 Axes>"
      ]
     },
     "metadata": {
      "needs_background": "light"
     },
     "output_type": "display_data"
    }
   ],
   "source": [
    "plt.hist(user_first_vid['date_diff'], 20, range=[0, 100]) \n",
    "plt.xlabel(\"Number of Days Took to Create First Video\")\n",
    "plt.ylabel(\"Count\")"
   ]
  },
  {
   "cell_type": "code",
   "execution_count": 258,
   "id": "46c16bc4",
   "metadata": {},
   "outputs": [
    {
     "data": {
      "text/plain": [
       "35.26411290322581"
      ]
     },
     "execution_count": 258,
     "metadata": {},
     "output_type": "execute_result"
    }
   ],
   "source": [
    "user_first_vid['date_diff'].mean()"
   ]
  },
  {
   "cell_type": "markdown",
   "id": "5f3e6c68",
   "metadata": {},
   "source": [
    "## Data exploration"
   ]
  },
  {
   "cell_type": "markdown",
   "id": "8b4e2ba6",
   "metadata": {},
   "source": [
    "### Distribution of user registration per month"
   ]
  },
  {
   "cell_type": "code",
   "execution_count": 165,
   "id": "8ba5a385",
   "metadata": {},
   "outputs": [],
   "source": [
    "user['created_at'] = pd.to_datetime(user['created_at'])\n",
    "user['created_at_month'] = user['created_at'].dt.month"
   ]
  },
  {
   "cell_type": "code",
   "execution_count": 166,
   "id": "52b008eb",
   "metadata": {},
   "outputs": [
    {
     "data": {
      "text/plain": [
       "<AxesSubplot:xlabel='created_at_month'>"
      ]
     },
     "execution_count": 166,
     "metadata": {},
     "output_type": "execute_result"
    },
    {
     "data": {
      "image/png": "[encoded data removed]",
      "text/plain": [
       "<Figure size 432x288 with 1 Axes>"
      ]
     },
     "metadata": {
      "needs_background": "light"
     },
     "output_type": "display_data"
    }
   ],
   "source": [
    "user_month = user.groupby('created_at_month').agg({'id': 'count'})\n",
    "user_month = user_month.reset_index()\n",
    "user_month.plot('created_at_month' , 'id')"
   ]
  },
  {
   "cell_type": "markdown",
   "id": "98dc4bd2",
   "metadata": {},
   "source": [
    "There are a few surges in user registration throughout the year (July and November), but the user registration dropped significantly in December"
   ]
  },
  {
   "cell_type": "markdown",
   "id": "fee678c8",
   "metadata": {},
   "source": [
    "### Merge User with Video dataframe"
   ]
  },
  {
   "cell_type": "code",
   "execution_count": 167,
   "id": "3200ce22",
   "metadata": {},
   "outputs": [],
   "source": [
    "video_user_df = video.merge(user, left_on = 'creator', right_on ='id')"
   ]
  },
  {
   "cell_type": "code",
   "execution_count": 168,
   "id": "25aeb236",
   "metadata": {},
   "outputs": [],
   "source": [
    "video_user_df.rename(columns={'id_x':'videoId', 'created_at_x': 'video_create_date', \n",
    "                   'created_at_y': 'user_create_date', 'class': 'user_create_class'}, inplace=True)"
   ]
  },
  {
   "cell_type": "code",
   "execution_count": 169,
   "id": "28661df5",
   "metadata": {},
   "outputs": [],
   "source": [
    "video_user_df =  video_user_df[['videoId', 'attribute_id', 'music_id', 'animation_id', 'duration',\n",
    "                               'creator', 'video_create_date', 'num_shares', 'game_id',\n",
    "                               'is_ar', 'user_create_date', 'user_create_class', 'created_at_month']]"
   ]
  },
  {
   "cell_type": "code",
   "execution_count": 170,
   "id": "70215bc4",
   "metadata": {},
   "outputs": [
    {
     "data": {
      "text/html": [
       "<div>\n",
       "<style scoped>\n",
       "    .dataframe tbody tr th:only-of-type {\n",
       "        vertical-align: middle;\n",
       "    }\n",
       "\n",
       "    .dataframe tbody tr th {\n",
       "        vertical-align: top;\n",
       "    }\n",
       "\n",
       "    .dataframe thead th {\n",
       "        text-align: right;\n",
       "    }\n",
       "</style>\n",
       "<table border=\"1\" class=\"dataframe\">\n",
       "  <thead>\n",
       "    <tr style=\"text-align: right;\">\n",
       "      <th></th>\n",
       "      <th>videoId</th>\n",
       "      <th>attribute_id</th>\n",
       "      <th>music_id</th>\n",
       "      <th>animation_id</th>\n",
       "      <th>duration</th>\n",
       "      <th>creator</th>\n",
       "      <th>video_create_date</th>\n",
       "      <th>num_shares</th>\n",
       "      <th>game_id</th>\n",
       "      <th>is_ar</th>\n",
       "      <th>user_create_date</th>\n",
       "      <th>user_create_class</th>\n",
       "      <th>created_at_month</th>\n",
       "    </tr>\n",
       "  </thead>\n",
       "  <tbody>\n",
       "    <tr>\n",
       "      <th>0</th>\n",
       "      <td>6e884071-8c0e-4782-aa40-e0fd78243360</td>\n",
       "      <td>4712e9e6-bef1-4646-b21e-ca5336901bf9</td>\n",
       "      <td>4ee0de5b-e27f-4d73-a3c6-52cf26e36c54</td>\n",
       "      <td>17dab81c-6180-4a4b-b539-91978a726cfd</td>\n",
       "      <td>5.34</td>\n",
       "      <td>73ec1ac2-d148-45ac-94a8-9bdff51730d7</td>\n",
       "      <td>2021-08-04 10:42:39</td>\n",
       "      <td>12</td>\n",
       "      <td>8bd4c7be-fe87-45ad-990d-d131cd3d9c77</td>\n",
       "      <td>True</td>\n",
       "      <td>2021-07-01 18:27:53</td>\n",
       "      <td>Super Creator</td>\n",
       "      <td>7</td>\n",
       "    </tr>\n",
       "    <tr>\n",
       "      <th>1</th>\n",
       "      <td>1444ecdb-3e13-4465-a901-aaf98a4cdb8d</td>\n",
       "      <td>06c496ee-e884-42f9-ba39-010a66ed5296</td>\n",
       "      <td>c3721b09-6896-465a-8e13-4d73efd06874</td>\n",
       "      <td>b5349df0-23dd-4973-b47d-ae5df5a4e247</td>\n",
       "      <td>5.02</td>\n",
       "      <td>73ec1ac2-d148-45ac-94a8-9bdff51730d7</td>\n",
       "      <td>2021-09-29 15:23:22</td>\n",
       "      <td>14</td>\n",
       "      <td>6ca0f645-a16b-42b0-9dc2-2ae952c83591</td>\n",
       "      <td>False</td>\n",
       "      <td>2021-07-01 18:27:53</td>\n",
       "      <td>Super Creator</td>\n",
       "      <td>7</td>\n",
       "    </tr>\n",
       "    <tr>\n",
       "      <th>2</th>\n",
       "      <td>9dde23bc-25d7-4262-8197-d6aadd79d461</td>\n",
       "      <td>80f5b187-f6e6-40f2-9b6e-fe62b67049a8</td>\n",
       "      <td>3de11516-8627-47c3-98ab-265b429cac91</td>\n",
       "      <td>435320a3-8d3d-4a9d-b76b-2f2e268f7619</td>\n",
       "      <td>2.49</td>\n",
       "      <td>73ec1ac2-d148-45ac-94a8-9bdff51730d7</td>\n",
       "      <td>2021-10-07 12:30:45</td>\n",
       "      <td>5</td>\n",
       "      <td>66653b7c-b600-49b3-a58c-d1862e91d426</td>\n",
       "      <td>True</td>\n",
       "      <td>2021-07-01 18:27:53</td>\n",
       "      <td>Super Creator</td>\n",
       "      <td>7</td>\n",
       "    </tr>\n",
       "    <tr>\n",
       "      <th>3</th>\n",
       "      <td>343f5cfd-0c28-458c-911f-4ad651841a95</td>\n",
       "      <td>3390e253-7815-4a3c-8169-fd2ab532e166</td>\n",
       "      <td>da2fc9b0-32d5-4a1b-8b40-2706eb133bf0</td>\n",
       "      <td>ff1a548b-e307-474c-a405-6370ca1a0639</td>\n",
       "      <td>5.91</td>\n",
       "      <td>73ec1ac2-d148-45ac-94a8-9bdff51730d7</td>\n",
       "      <td>2021-10-16 22:47:19</td>\n",
       "      <td>19</td>\n",
       "      <td>2609b6b5-3a08-451e-bce5-75fe506559d2</td>\n",
       "      <td>False</td>\n",
       "      <td>2021-07-01 18:27:53</td>\n",
       "      <td>Super Creator</td>\n",
       "      <td>7</td>\n",
       "    </tr>\n",
       "    <tr>\n",
       "      <th>4</th>\n",
       "      <td>115136cf-98c3-450a-bc42-a8f69cfc59f8</td>\n",
       "      <td>7ef48c9e-776d-4d24-8c2b-e3675b295767</td>\n",
       "      <td>4ee0de5b-e27f-4d73-a3c6-52cf26e36c54</td>\n",
       "      <td>ace4c5e2-ef86-429a-aad3-23bef7a1c9f1</td>\n",
       "      <td>4.84</td>\n",
       "      <td>73ec1ac2-d148-45ac-94a8-9bdff51730d7</td>\n",
       "      <td>2021-10-18 04:03:20</td>\n",
       "      <td>13</td>\n",
       "      <td>2609b6b5-3a08-451e-bce5-75fe506559d2</td>\n",
       "      <td>True</td>\n",
       "      <td>2021-07-01 18:27:53</td>\n",
       "      <td>Super Creator</td>\n",
       "      <td>7</td>\n",
       "    </tr>\n",
       "  </tbody>\n",
       "</table>\n",
       "</div>"
      ],
      "text/plain": [
       "                                videoId                          attribute_id  \\\n",
       "0  6e884071-8c0e-4782-aa40-e0fd78243360  4712e9e6-bef1-4646-b21e-ca5336901bf9   \n",
       "1  1444ecdb-3e13-4465-a901-aaf98a4cdb8d  06c496ee-e884-42f9-ba39-010a66ed5296   \n",
       "2  9dde23bc-25d7-4262-8197-d6aadd79d461  80f5b187-f6e6-40f2-9b6e-fe62b67049a8   \n",
       "3  343f5cfd-0c28-458c-911f-4ad651841a95  3390e253-7815-4a3c-8169-fd2ab532e166   \n",
       "4  115136cf-98c3-450a-bc42-a8f69cfc59f8  7ef48c9e-776d-4d24-8c2b-e3675b295767   \n",
       "\n",
       "                               music_id                          animation_id  \\\n",
       "0  4ee0de5b-e27f-4d73-a3c6-52cf26e36c54  17dab81c-6180-4a4b-b539-91978a726cfd   \n",
       "1  c3721b09-6896-465a-8e13-4d73efd06874  b5349df0-23dd-4973-b47d-ae5df5a4e247   \n",
       "2  3de11516-8627-47c3-98ab-265b429cac91  435320a3-8d3d-4a9d-b76b-2f2e268f7619   \n",
       "3  da2fc9b0-32d5-4a1b-8b40-2706eb133bf0  ff1a548b-e307-474c-a405-6370ca1a0639   \n",
       "4  4ee0de5b-e27f-4d73-a3c6-52cf26e36c54  ace4c5e2-ef86-429a-aad3-23bef7a1c9f1   \n",
       "\n",
       "   duration                               creator    video_create_date  \\\n",
       "0      5.34  73ec1ac2-d148-45ac-94a8-9bdff51730d7  2021-08-04 10:42:39   \n",
       "1      5.02  73ec1ac2-d148-45ac-94a8-9bdff51730d7  2021-09-29 15:23:22   \n",
       "2      2.49  73ec1ac2-d148-45ac-94a8-9bdff51730d7  2021-10-07 12:30:45   \n",
       "3      5.91  73ec1ac2-d148-45ac-94a8-9bdff51730d7  2021-10-16 22:47:19   \n",
       "4      4.84  73ec1ac2-d148-45ac-94a8-9bdff51730d7  2021-10-18 04:03:20   \n",
       "\n",
       "   num_shares                               game_id  is_ar  \\\n",
       "0          12  8bd4c7be-fe87-45ad-990d-d131cd3d9c77   True   \n",
       "1          14  6ca0f645-a16b-42b0-9dc2-2ae952c83591  False   \n",
       "2           5  66653b7c-b600-49b3-a58c-d1862e91d426   True   \n",
       "3          19  2609b6b5-3a08-451e-bce5-75fe506559d2  False   \n",
       "4          13  2609b6b5-3a08-451e-bce5-75fe506559d2   True   \n",
       "\n",
       "     user_create_date user_create_class  created_at_month  \n",
       "0 2021-07-01 18:27:53     Super Creator                 7  \n",
       "1 2021-07-01 18:27:53     Super Creator                 7  \n",
       "2 2021-07-01 18:27:53     Super Creator                 7  \n",
       "3 2021-07-01 18:27:53     Super Creator                 7  \n",
       "4 2021-07-01 18:27:53     Super Creator                 7  "
      ]
     },
     "execution_count": 170,
     "metadata": {},
     "output_type": "execute_result"
    }
   ],
   "source": [
    "video_user_df.head()"
   ]
  },
  {
   "cell_type": "code",
   "execution_count": 229,
   "id": "d7563c8a",
   "metadata": {},
   "outputs": [
    {
     "data": {
      "text/plain": [
       "Text(0.5, 1.0, 'Distribution of video created by class')"
      ]
     },
     "execution_count": 229,
     "metadata": {},
     "output_type": "execute_result"
    },
    {
     "data": {
      "image/png": "[encoded data removed]",
      "text/plain": [
       "<Figure size 432x288 with 1 Axes>"
      ]
     },
     "metadata": {
      "needs_background": "light"
     },
     "output_type": "display_data"
    }
   ],
   "source": [
    "video_user_df.groupby('user_create_class').agg({'videoId': 'nunique'}).plot(kind='bar')\n",
    "plt.xticks([0,1,2,3,4],['Creator', 'Gamer', 'Super Creator', 'Super Gamer', 'Viewer'])\n",
    "plt.title(\"Distribution of video created by class\")"
   ]
  },
  {
   "cell_type": "markdown",
   "id": "e95181a0",
   "metadata": {},
   "source": [
    "Based on the title of each user class, we would assume that the Super Creator class would create the most number of videos. However, as seen from the graph, the number of videos created were pretty similar across each user class (~900 videos). Therefore, the users might be classified randomly and this attribute doesn't contribute much insight to the analysis."
   ]
  },
  {
   "cell_type": "markdown",
   "id": "a887e455",
   "metadata": {},
   "source": [
    "### AR analysis"
   ]
  },
  {
   "cell_type": "code",
   "execution_count": 172,
   "id": "78b013da",
   "metadata": {},
   "outputs": [],
   "source": [
    "#apply filters to only include videos with AR\n",
    "ar_vid = video_user_df[video_user_df['is_ar'] == True]"
   ]
  },
  {
   "cell_type": "code",
   "execution_count": 173,
   "id": "e771f7d5",
   "metadata": {},
   "outputs": [
    {
     "data": {
      "text/html": [
       "<div>\n",
       "<style scoped>\n",
       "    .dataframe tbody tr th:only-of-type {\n",
       "        vertical-align: middle;\n",
       "    }\n",
       "\n",
       "    .dataframe tbody tr th {\n",
       "        vertical-align: top;\n",
       "    }\n",
       "\n",
       "    .dataframe thead th {\n",
       "        text-align: right;\n",
       "    }\n",
       "</style>\n",
       "<table border=\"1\" class=\"dataframe\">\n",
       "  <thead>\n",
       "    <tr style=\"text-align: right;\">\n",
       "      <th></th>\n",
       "      <th>videoId</th>\n",
       "      <th>attribute_id</th>\n",
       "      <th>music_id</th>\n",
       "      <th>animation_id</th>\n",
       "      <th>duration</th>\n",
       "      <th>creator</th>\n",
       "      <th>video_create_date</th>\n",
       "      <th>num_shares</th>\n",
       "      <th>game_id</th>\n",
       "      <th>is_ar</th>\n",
       "      <th>user_create_date</th>\n",
       "      <th>user_create_class</th>\n",
       "      <th>created_at_month</th>\n",
       "    </tr>\n",
       "  </thead>\n",
       "  <tbody>\n",
       "    <tr>\n",
       "      <th>0</th>\n",
       "      <td>6e884071-8c0e-4782-aa40-e0fd78243360</td>\n",
       "      <td>4712e9e6-bef1-4646-b21e-ca5336901bf9</td>\n",
       "      <td>4ee0de5b-e27f-4d73-a3c6-52cf26e36c54</td>\n",
       "      <td>17dab81c-6180-4a4b-b539-91978a726cfd</td>\n",
       "      <td>5.34</td>\n",
       "      <td>73ec1ac2-d148-45ac-94a8-9bdff51730d7</td>\n",
       "      <td>2021-08-04 10:42:39</td>\n",
       "      <td>12</td>\n",
       "      <td>8bd4c7be-fe87-45ad-990d-d131cd3d9c77</td>\n",
       "      <td>True</td>\n",
       "      <td>2021-07-01 18:27:53</td>\n",
       "      <td>Super Creator</td>\n",
       "      <td>7</td>\n",
       "    </tr>\n",
       "    <tr>\n",
       "      <th>2</th>\n",
       "      <td>9dde23bc-25d7-4262-8197-d6aadd79d461</td>\n",
       "      <td>80f5b187-f6e6-40f2-9b6e-fe62b67049a8</td>\n",
       "      <td>3de11516-8627-47c3-98ab-265b429cac91</td>\n",
       "      <td>435320a3-8d3d-4a9d-b76b-2f2e268f7619</td>\n",
       "      <td>2.49</td>\n",
       "      <td>73ec1ac2-d148-45ac-94a8-9bdff51730d7</td>\n",
       "      <td>2021-10-07 12:30:45</td>\n",
       "      <td>5</td>\n",
       "      <td>66653b7c-b600-49b3-a58c-d1862e91d426</td>\n",
       "      <td>True</td>\n",
       "      <td>2021-07-01 18:27:53</td>\n",
       "      <td>Super Creator</td>\n",
       "      <td>7</td>\n",
       "    </tr>\n",
       "    <tr>\n",
       "      <th>4</th>\n",
       "      <td>115136cf-98c3-450a-bc42-a8f69cfc59f8</td>\n",
       "      <td>7ef48c9e-776d-4d24-8c2b-e3675b295767</td>\n",
       "      <td>4ee0de5b-e27f-4d73-a3c6-52cf26e36c54</td>\n",
       "      <td>ace4c5e2-ef86-429a-aad3-23bef7a1c9f1</td>\n",
       "      <td>4.84</td>\n",
       "      <td>73ec1ac2-d148-45ac-94a8-9bdff51730d7</td>\n",
       "      <td>2021-10-18 04:03:20</td>\n",
       "      <td>13</td>\n",
       "      <td>2609b6b5-3a08-451e-bce5-75fe506559d2</td>\n",
       "      <td>True</td>\n",
       "      <td>2021-07-01 18:27:53</td>\n",
       "      <td>Super Creator</td>\n",
       "      <td>7</td>\n",
       "    </tr>\n",
       "    <tr>\n",
       "      <th>7</th>\n",
       "      <td>ac90ff16-24b4-46bc-ae72-2da847f9e6c9</td>\n",
       "      <td>4f91d2b6-bf42-4d3f-a8e8-acc3b07f647e</td>\n",
       "      <td>4ee0de5b-e27f-4d73-a3c6-52cf26e36c54</td>\n",
       "      <td>6d7a0545-0bca-4bf4-a306-931e57d8ffe2</td>\n",
       "      <td>3.88</td>\n",
       "      <td>0230f9af-e89f-4886-8322-52a38eaf991c</td>\n",
       "      <td>2021-11-27 10:06:43</td>\n",
       "      <td>3</td>\n",
       "      <td>6ca0f645-a16b-42b0-9dc2-2ae952c83591</td>\n",
       "      <td>True</td>\n",
       "      <td>2021-06-04 20:14:39</td>\n",
       "      <td>Creator</td>\n",
       "      <td>6</td>\n",
       "    </tr>\n",
       "    <tr>\n",
       "      <th>8</th>\n",
       "      <td>6edbf68d-7032-485a-8030-8440216c53d8</td>\n",
       "      <td>4f91d2b6-bf42-4d3f-a8e8-acc3b07f647e</td>\n",
       "      <td>d53234f4-1efb-4299-97c1-11658118cba5</td>\n",
       "      <td>6d7a0545-0bca-4bf4-a306-931e57d8ffe2</td>\n",
       "      <td>5.92</td>\n",
       "      <td>0230f9af-e89f-4886-8322-52a38eaf991c</td>\n",
       "      <td>2021-08-09 11:41:43</td>\n",
       "      <td>9</td>\n",
       "      <td>66653b7c-b600-49b3-a58c-d1862e91d426</td>\n",
       "      <td>True</td>\n",
       "      <td>2021-06-04 20:14:39</td>\n",
       "      <td>Creator</td>\n",
       "      <td>6</td>\n",
       "    </tr>\n",
       "  </tbody>\n",
       "</table>\n",
       "</div>"
      ],
      "text/plain": [
       "                                videoId                          attribute_id  \\\n",
       "0  6e884071-8c0e-4782-aa40-e0fd78243360  4712e9e6-bef1-4646-b21e-ca5336901bf9   \n",
       "2  9dde23bc-25d7-4262-8197-d6aadd79d461  80f5b187-f6e6-40f2-9b6e-fe62b67049a8   \n",
       "4  115136cf-98c3-450a-bc42-a8f69cfc59f8  7ef48c9e-776d-4d24-8c2b-e3675b295767   \n",
       "7  ac90ff16-24b4-46bc-ae72-2da847f9e6c9  4f91d2b6-bf42-4d3f-a8e8-acc3b07f647e   \n",
       "8  6edbf68d-7032-485a-8030-8440216c53d8  4f91d2b6-bf42-4d3f-a8e8-acc3b07f647e   \n",
       "\n",
       "                               music_id                          animation_id  \\\n",
       "0  4ee0de5b-e27f-4d73-a3c6-52cf26e36c54  17dab81c-6180-4a4b-b539-91978a726cfd   \n",
       "2  3de11516-8627-47c3-98ab-265b429cac91  435320a3-8d3d-4a9d-b76b-2f2e268f7619   \n",
       "4  4ee0de5b-e27f-4d73-a3c6-52cf26e36c54  ace4c5e2-ef86-429a-aad3-23bef7a1c9f1   \n",
       "7  4ee0de5b-e27f-4d73-a3c6-52cf26e36c54  6d7a0545-0bca-4bf4-a306-931e57d8ffe2   \n",
       "8  d53234f4-1efb-4299-97c1-11658118cba5  6d7a0545-0bca-4bf4-a306-931e57d8ffe2   \n",
       "\n",
       "   duration                               creator    video_create_date  \\\n",
       "0      5.34  73ec1ac2-d148-45ac-94a8-9bdff51730d7  2021-08-04 10:42:39   \n",
       "2      2.49  73ec1ac2-d148-45ac-94a8-9bdff51730d7  2021-10-07 12:30:45   \n",
       "4      4.84  73ec1ac2-d148-45ac-94a8-9bdff51730d7  2021-10-18 04:03:20   \n",
       "7      3.88  0230f9af-e89f-4886-8322-52a38eaf991c  2021-11-27 10:06:43   \n",
       "8      5.92  0230f9af-e89f-4886-8322-52a38eaf991c  2021-08-09 11:41:43   \n",
       "\n",
       "   num_shares                               game_id  is_ar  \\\n",
       "0          12  8bd4c7be-fe87-45ad-990d-d131cd3d9c77   True   \n",
       "2           5  66653b7c-b600-49b3-a58c-d1862e91d426   True   \n",
       "4          13  2609b6b5-3a08-451e-bce5-75fe506559d2   True   \n",
       "7           3  6ca0f645-a16b-42b0-9dc2-2ae952c83591   True   \n",
       "8           9  66653b7c-b600-49b3-a58c-d1862e91d426   True   \n",
       "\n",
       "     user_create_date user_create_class  created_at_month  \n",
       "0 2021-07-01 18:27:53     Super Creator                 7  \n",
       "2 2021-07-01 18:27:53     Super Creator                 7  \n",
       "4 2021-07-01 18:27:53     Super Creator                 7  \n",
       "7 2021-06-04 20:14:39           Creator                 6  \n",
       "8 2021-06-04 20:14:39           Creator                 6  "
      ]
     },
     "execution_count": 173,
     "metadata": {},
     "output_type": "execute_result"
    }
   ],
   "source": [
    "ar_vid.head()"
   ]
  },
  {
   "cell_type": "code",
   "execution_count": 174,
   "id": "094d2248",
   "metadata": {},
   "outputs": [
    {
     "data": {
      "text/plain": [
       "924"
      ]
     },
     "execution_count": 174,
     "metadata": {},
     "output_type": "execute_result"
    }
   ],
   "source": [
    "#There are 924 unique users who user AR in their videos\n",
    "ar_vid['creator'].nunique()"
   ]
  },
  {
   "cell_type": "code",
   "execution_count": 175,
   "id": "d004f350",
   "metadata": {},
   "outputs": [
    {
     "data": {
      "text/plain": [
       "1000"
      ]
     },
     "execution_count": 175,
     "metadata": {},
     "output_type": "execute_result"
    }
   ],
   "source": [
    "#Total number of unique users\n",
    "user['id'].nunique()"
   ]
  },
  {
   "cell_type": "markdown",
   "id": "c7f638ea",
   "metadata": {},
   "source": [
    "Over 94% of users have experienced AR videos"
   ]
  },
  {
   "cell_type": "code",
   "execution_count": 176,
   "id": "502c4990",
   "metadata": {},
   "outputs": [
    {
     "data": {
      "text/html": [
       "<div>\n",
       "<style scoped>\n",
       "    .dataframe tbody tr th:only-of-type {\n",
       "        vertical-align: middle;\n",
       "    }\n",
       "\n",
       "    .dataframe tbody tr th {\n",
       "        vertical-align: top;\n",
       "    }\n",
       "\n",
       "    .dataframe thead th {\n",
       "        text-align: right;\n",
       "    }\n",
       "</style>\n",
       "<table border=\"1\" class=\"dataframe\">\n",
       "  <thead>\n",
       "    <tr style=\"text-align: right;\">\n",
       "      <th></th>\n",
       "      <th>creator</th>\n",
       "      <th>is_ar</th>\n",
       "    </tr>\n",
       "  </thead>\n",
       "  <tbody>\n",
       "    <tr>\n",
       "      <th>861</th>\n",
       "      <td>f261caed-1a26-4ab7-90ba-517d35fea76d</td>\n",
       "      <td>8</td>\n",
       "    </tr>\n",
       "    <tr>\n",
       "      <th>223</th>\n",
       "      <td>3fb33c17-aaf7-4921-a03a-47139f6b58d1</td>\n",
       "      <td>8</td>\n",
       "    </tr>\n",
       "    <tr>\n",
       "      <th>97</th>\n",
       "      <td>1cc4ac7c-a6d5-45fa-aea2-603e1f9c7231</td>\n",
       "      <td>8</td>\n",
       "    </tr>\n",
       "    <tr>\n",
       "      <th>797</th>\n",
       "      <td>dffff65f-e04a-4a78-b9db-1f1c194d816a</td>\n",
       "      <td>7</td>\n",
       "    </tr>\n",
       "    <tr>\n",
       "      <th>133</th>\n",
       "      <td>293bcb6f-c892-43aa-a92a-4729ec3513fb</td>\n",
       "      <td>7</td>\n",
       "    </tr>\n",
       "  </tbody>\n",
       "</table>\n",
       "</div>"
      ],
      "text/plain": [
       "                                  creator  is_ar\n",
       "861  f261caed-1a26-4ab7-90ba-517d35fea76d      8\n",
       "223  3fb33c17-aaf7-4921-a03a-47139f6b58d1      8\n",
       "97   1cc4ac7c-a6d5-45fa-aea2-603e1f9c7231      8\n",
       "797  dffff65f-e04a-4a78-b9db-1f1c194d816a      7\n",
       "133  293bcb6f-c892-43aa-a92a-4729ec3513fb      7"
      ]
     },
     "execution_count": 176,
     "metadata": {},
     "output_type": "execute_result"
    }
   ],
   "source": [
    "#Calculate the number of videos using AR for each creator\n",
    "ar_creator = ar_vid.groupby('creator')['is_ar'].sum()\n",
    "ar_creator = ar_creator.reset_index()\n",
    "ar_creator.sort_values('is_ar', ascending = False).head(5)"
   ]
  },
  {
   "cell_type": "code",
   "execution_count": 177,
   "id": "1191596b",
   "metadata": {},
   "outputs": [
    {
     "data": {
      "text/plain": [
       "<AxesSubplot:>"
      ]
     },
     "execution_count": 177,
     "metadata": {},
     "output_type": "execute_result"
    },
    {
     "data": {
      "image/png": "[encoded data removed]",
      "text/plain": [
       "<Figure size 432x288 with 1 Axes>"
      ]
     },
     "metadata": {
      "needs_background": "light"
     },
     "output_type": "display_data"
    }
   ],
   "source": [
    "ar_creator.is_ar.value_counts().sort_values().plot(kind = 'barh')"
   ]
  },
  {
   "cell_type": "code",
   "execution_count": 178,
   "id": "b0216b60",
   "metadata": {},
   "outputs": [
    {
     "data": {
      "text/html": [
       "<div>\n",
       "<style scoped>\n",
       "    .dataframe tbody tr th:only-of-type {\n",
       "        vertical-align: middle;\n",
       "    }\n",
       "\n",
       "    .dataframe tbody tr th {\n",
       "        vertical-align: top;\n",
       "    }\n",
       "\n",
       "    .dataframe thead th {\n",
       "        text-align: right;\n",
       "    }\n",
       "</style>\n",
       "<table border=\"1\" class=\"dataframe\">\n",
       "  <thead>\n",
       "    <tr style=\"text-align: right;\">\n",
       "      <th></th>\n",
       "      <th>creator</th>\n",
       "      <th>id</th>\n",
       "    </tr>\n",
       "  </thead>\n",
       "  <tbody>\n",
       "    <tr>\n",
       "      <th>982</th>\n",
       "      <td>fe96fb46-1629-4e5c-8a4c-d244146726c4</td>\n",
       "      <td>12</td>\n",
       "    </tr>\n",
       "    <tr>\n",
       "      <th>850</th>\n",
       "      <td>ddfeab0f-274a-4cab-86c2-873cbd8e485e</td>\n",
       "      <td>12</td>\n",
       "    </tr>\n",
       "    <tr>\n",
       "      <th>715</th>\n",
       "      <td>b86d3272-a6a0-449c-8d04-caa5fbd9260a</td>\n",
       "      <td>12</td>\n",
       "    </tr>\n",
       "    <tr>\n",
       "      <th>946</th>\n",
       "      <td>f7a2adb8-44d7-4408-a2a9-3a593fc6d626</td>\n",
       "      <td>11</td>\n",
       "    </tr>\n",
       "    <tr>\n",
       "      <th>927</th>\n",
       "      <td>f261caed-1a26-4ab7-90ba-517d35fea76d</td>\n",
       "      <td>11</td>\n",
       "    </tr>\n",
       "  </tbody>\n",
       "</table>\n",
       "</div>"
      ],
      "text/plain": [
       "                                  creator  id\n",
       "982  fe96fb46-1629-4e5c-8a4c-d244146726c4  12\n",
       "850  ddfeab0f-274a-4cab-86c2-873cbd8e485e  12\n",
       "715  b86d3272-a6a0-449c-8d04-caa5fbd9260a  12\n",
       "946  f7a2adb8-44d7-4408-a2a9-3a593fc6d626  11\n",
       "927  f261caed-1a26-4ab7-90ba-517d35fea76d  11"
      ]
     },
     "execution_count": 178,
     "metadata": {},
     "output_type": "execute_result"
    }
   ],
   "source": [
    "#Calculate the total videos created by each creator\n",
    "user_vid_create = video.groupby('creator').agg({'id': 'count'})\n",
    "user_vid_create = user_vid_create.reset_index()\n",
    "user_vid_create.sort_values('id', ascending = False).head()"
   ]
  },
  {
   "cell_type": "code",
   "execution_count": 179,
   "id": "0a3d330c",
   "metadata": {},
   "outputs": [
    {
     "data": {
      "text/plain": [
       "<AxesSubplot:>"
      ]
     },
     "execution_count": 179,
     "metadata": {},
     "output_type": "execute_result"
    },
    {
     "data": {
      "image/png": "[encoded data removed]",
      "text/plain": [
       "<Figure size 432x288 with 1 Axes>"
      ]
     },
     "metadata": {
      "needs_background": "light"
     },
     "output_type": "display_data"
    }
   ],
   "source": [
    "user_vid_create.id.value_counts().sort_values().plot(kind = 'barh')"
   ]
  },
  {
   "cell_type": "code",
   "execution_count": 180,
   "id": "5c9c0fcf",
   "metadata": {},
   "outputs": [],
   "source": [
    "user_vid_ar = ar_creator.merge(user_vid_create, on = 'creator')"
   ]
  },
  {
   "cell_type": "code",
   "execution_count": 233,
   "id": "dfcc8f4d",
   "metadata": {},
   "outputs": [
    {
     "data": {
      "text/html": [
       "<div>\n",
       "<style scoped>\n",
       "    .dataframe tbody tr th:only-of-type {\n",
       "        vertical-align: middle;\n",
       "    }\n",
       "\n",
       "    .dataframe tbody tr th {\n",
       "        vertical-align: top;\n",
       "    }\n",
       "\n",
       "    .dataframe thead th {\n",
       "        text-align: right;\n",
       "    }\n",
       "</style>\n",
       "<table border=\"1\" class=\"dataframe\">\n",
       "  <thead>\n",
       "    <tr style=\"text-align: right;\">\n",
       "      <th></th>\n",
       "      <th>creator</th>\n",
       "      <th>is_ar</th>\n",
       "      <th>id</th>\n",
       "      <th>perct_ar</th>\n",
       "    </tr>\n",
       "  </thead>\n",
       "  <tbody>\n",
       "    <tr>\n",
       "      <th>435</th>\n",
       "      <td>7a0a3dd6-17ad-456b-956e-ef69d719603c</td>\n",
       "      <td>2</td>\n",
       "      <td>2</td>\n",
       "      <td>100.0</td>\n",
       "    </tr>\n",
       "    <tr>\n",
       "      <th>872</th>\n",
       "      <td>f559d0b7-dfb8-468e-a243-ec55e46617a7</td>\n",
       "      <td>2</td>\n",
       "      <td>2</td>\n",
       "      <td>100.0</td>\n",
       "    </tr>\n",
       "    <tr>\n",
       "      <th>10</th>\n",
       "      <td>02b0f721-12ff-43eb-a860-0e3fed4e3d47</td>\n",
       "      <td>1</td>\n",
       "      <td>1</td>\n",
       "      <td>100.0</td>\n",
       "    </tr>\n",
       "    <tr>\n",
       "      <th>619</th>\n",
       "      <td>abed6038-1652-4ea2-8df1-a0bb5b33af28</td>\n",
       "      <td>2</td>\n",
       "      <td>2</td>\n",
       "      <td>100.0</td>\n",
       "    </tr>\n",
       "    <tr>\n",
       "      <th>809</th>\n",
       "      <td>e3554749-d9b3-4c03-821d-c605eecad0b1</td>\n",
       "      <td>2</td>\n",
       "      <td>2</td>\n",
       "      <td>100.0</td>\n",
       "    </tr>\n",
       "  </tbody>\n",
       "</table>\n",
       "</div>"
      ],
      "text/plain": [
       "                                  creator  is_ar  id  perct_ar\n",
       "435  7a0a3dd6-17ad-456b-956e-ef69d719603c      2   2     100.0\n",
       "872  f559d0b7-dfb8-468e-a243-ec55e46617a7      2   2     100.0\n",
       "10   02b0f721-12ff-43eb-a860-0e3fed4e3d47      1   1     100.0\n",
       "619  abed6038-1652-4ea2-8df1-a0bb5b33af28      2   2     100.0\n",
       "809  e3554749-d9b3-4c03-821d-c605eecad0b1      2   2     100.0"
      ]
     },
     "execution_count": 233,
     "metadata": {},
     "output_type": "execute_result"
    }
   ],
   "source": [
    "#calculate the percentage of AR videos in total number of videos created by each creator\n",
    "user_vid_ar['perct_ar'] = (user_vid_ar['is_ar'] / user_vid_ar['id'])*100\n",
    "user_vid_ar = user_vid_ar.sort_values('perct_ar', ascending = False)\n",
    "user_vid_ar.head()"
   ]
  },
  {
   "cell_type": "code",
   "execution_count": 242,
   "id": "8bee5f7c",
   "metadata": {},
   "outputs": [
    {
     "data": {
      "text/plain": [
       "Text(0.5, 1.0, 'How often users use AR in their videos')"
      ]
     },
     "execution_count": 242,
     "metadata": {},
     "output_type": "execute_result"
    },
    {
     "data": {
      "image/png": "[encoded data removed]",
      "text/plain": [
       "<Figure size 432x288 with 1 Axes>"
      ]
     },
     "metadata": {
      "needs_background": "light"
     },
     "output_type": "display_data"
    }
   ],
   "source": [
    "user_vid_ar['perct_ar'].hist(bins = [10,20,30,40,50,60,70,80,90,100])\n",
    "plt.xlabel(\"Percentage of AR Videos Among Created Videos\")\n",
    "plt.ylabel(\"Total Users\")\n",
    "plt.title(\"How often users use AR in their videos\")"
   ]
  },
  {
   "cell_type": "code",
   "execution_count": 245,
   "id": "cfc4fd8d",
   "metadata": {},
   "outputs": [
    {
     "data": {
      "text/plain": [
       "131"
      ]
     },
     "execution_count": 245,
     "metadata": {},
     "output_type": "execute_result"
    }
   ],
   "source": [
    "len(user_vid_ar[user_vid_ar['perct_ar'] >= 80])"
   ]
  },
  {
   "cell_type": "code",
   "execution_count": 246,
   "id": "aa3230d2",
   "metadata": {},
   "outputs": [
    {
     "data": {
      "text/plain": [
       "14.177489177489178"
      ]
     },
     "execution_count": 246,
     "metadata": {},
     "output_type": "execute_result"
    }
   ],
   "source": [
    "100*(131/924)"
   ]
  },
  {
   "cell_type": "markdown",
   "id": "dc1b8db2",
   "metadata": {},
   "source": [
    "94% people tried AR but did not stick to it (only around 14% of users who made video use AR for more than or equal to  80% of their videos)"
   ]
  },
  {
   "cell_type": "markdown",
   "id": "97838f9b",
   "metadata": {},
   "source": [
    "### Engagement analysis  -- Month"
   ]
  },
  {
   "cell_type": "code",
   "execution_count": 183,
   "id": "dfc3de86",
   "metadata": {},
   "outputs": [],
   "source": [
    "video['created_at'] = pd.to_datetime(video['created_at'])\n",
    "video['created_at_month'] = video['created_at'].dt.month"
   ]
  },
  {
   "cell_type": "code",
   "execution_count": 259,
   "id": "dd287e33",
   "metadata": {},
   "outputs": [
    {
     "data": {
      "text/html": [
       "<div>\n",
       "<style scoped>\n",
       "    .dataframe tbody tr th:only-of-type {\n",
       "        vertical-align: middle;\n",
       "    }\n",
       "\n",
       "    .dataframe tbody tr th {\n",
       "        vertical-align: top;\n",
       "    }\n",
       "\n",
       "    .dataframe thead th {\n",
       "        text-align: right;\n",
       "    }\n",
       "</style>\n",
       "<table border=\"1\" class=\"dataframe\">\n",
       "  <thead>\n",
       "    <tr style=\"text-align: right;\">\n",
       "      <th></th>\n",
       "      <th>Unnamed: 0</th>\n",
       "      <th>id</th>\n",
       "      <th>attribute_id</th>\n",
       "      <th>music_id</th>\n",
       "      <th>animation_id</th>\n",
       "      <th>duration</th>\n",
       "      <th>creator</th>\n",
       "      <th>created_at</th>\n",
       "      <th>num_shares</th>\n",
       "      <th>game_id</th>\n",
       "      <th>is_ar</th>\n",
       "      <th>created_at_month</th>\n",
       "    </tr>\n",
       "  </thead>\n",
       "  <tbody>\n",
       "    <tr>\n",
       "      <th>0</th>\n",
       "      <td>0</td>\n",
       "      <td>6e884071-8c0e-4782-aa40-e0fd78243360</td>\n",
       "      <td>4712e9e6-bef1-4646-b21e-ca5336901bf9</td>\n",
       "      <td>4ee0de5b-e27f-4d73-a3c6-52cf26e36c54</td>\n",
       "      <td>17dab81c-6180-4a4b-b539-91978a726cfd</td>\n",
       "      <td>5.34</td>\n",
       "      <td>73ec1ac2-d148-45ac-94a8-9bdff51730d7</td>\n",
       "      <td>2021-08-04 10:42:39</td>\n",
       "      <td>12</td>\n",
       "      <td>8bd4c7be-fe87-45ad-990d-d131cd3d9c77</td>\n",
       "      <td>True</td>\n",
       "      <td>8</td>\n",
       "    </tr>\n",
       "    <tr>\n",
       "      <th>1</th>\n",
       "      <td>1</td>\n",
       "      <td>ac90ff16-24b4-46bc-ae72-2da847f9e6c9</td>\n",
       "      <td>4f91d2b6-bf42-4d3f-a8e8-acc3b07f647e</td>\n",
       "      <td>4ee0de5b-e27f-4d73-a3c6-52cf26e36c54</td>\n",
       "      <td>6d7a0545-0bca-4bf4-a306-931e57d8ffe2</td>\n",
       "      <td>3.88</td>\n",
       "      <td>0230f9af-e89f-4886-8322-52a38eaf991c</td>\n",
       "      <td>2021-11-27 10:06:43</td>\n",
       "      <td>3</td>\n",
       "      <td>6ca0f645-a16b-42b0-9dc2-2ae952c83591</td>\n",
       "      <td>True</td>\n",
       "      <td>11</td>\n",
       "    </tr>\n",
       "    <tr>\n",
       "      <th>2</th>\n",
       "      <td>2</td>\n",
       "      <td>fb5eaf0d-e72c-4523-b5c5-4d9c323cef5f</td>\n",
       "      <td>80f5b187-f6e6-40f2-9b6e-fe62b67049a8</td>\n",
       "      <td>d53234f4-1efb-4299-97c1-11658118cba5</td>\n",
       "      <td>716c02df-bd3a-41c9-b2be-86fb74ff3255</td>\n",
       "      <td>5.15</td>\n",
       "      <td>fbf93fbf-a935-436f-8516-8acb863e779f</td>\n",
       "      <td>2021-02-26 04:18:53</td>\n",
       "      <td>4</td>\n",
       "      <td>6ca0f645-a16b-42b0-9dc2-2ae952c83591</td>\n",
       "      <td>True</td>\n",
       "      <td>2</td>\n",
       "    </tr>\n",
       "    <tr>\n",
       "      <th>3</th>\n",
       "      <td>3</td>\n",
       "      <td>bbf89dcb-7fbd-439d-9a7d-36ef7a1c2aa3</td>\n",
       "      <td>02b2b662-1b39-4d91-9417-dddc9451d8e1</td>\n",
       "      <td>19e4db13-d854-4913-a8ca-3612ee1a6071</td>\n",
       "      <td>b7bd5204-2976-4eb0-ab71-508a848bc325</td>\n",
       "      <td>6.50</td>\n",
       "      <td>f7a2adb8-44d7-4408-a2a9-3a593fc6d626</td>\n",
       "      <td>2021-11-27 02:08:02</td>\n",
       "      <td>9</td>\n",
       "      <td>8bd4c7be-fe87-45ad-990d-d131cd3d9c77</td>\n",
       "      <td>False</td>\n",
       "      <td>11</td>\n",
       "    </tr>\n",
       "    <tr>\n",
       "      <th>4</th>\n",
       "      <td>4</td>\n",
       "      <td>4c613ec6-fa6f-47e8-b4ab-658e2f6a644d</td>\n",
       "      <td>06c496ee-e884-42f9-ba39-010a66ed5296</td>\n",
       "      <td>b5b679a5-e769-4d95-82a6-f75e439b1ef9</td>\n",
       "      <td>17dab81c-6180-4a4b-b539-91978a726cfd</td>\n",
       "      <td>4.38</td>\n",
       "      <td>d9f9538f-1b7e-4f35-805d-924b309d75d8</td>\n",
       "      <td>2021-11-17 11:06:32</td>\n",
       "      <td>14</td>\n",
       "      <td>2609b6b5-3a08-451e-bce5-75fe506559d2</td>\n",
       "      <td>False</td>\n",
       "      <td>11</td>\n",
       "    </tr>\n",
       "  </tbody>\n",
       "</table>\n",
       "</div>"
      ],
      "text/plain": [
       "   Unnamed: 0                                    id  \\\n",
       "0           0  6e884071-8c0e-4782-aa40-e0fd78243360   \n",
       "1           1  ac90ff16-24b4-46bc-ae72-2da847f9e6c9   \n",
       "2           2  fb5eaf0d-e72c-4523-b5c5-4d9c323cef5f   \n",
       "3           3  bbf89dcb-7fbd-439d-9a7d-36ef7a1c2aa3   \n",
       "4           4  4c613ec6-fa6f-47e8-b4ab-658e2f6a644d   \n",
       "\n",
       "                           attribute_id                              music_id  \\\n",
       "0  4712e9e6-bef1-4646-b21e-ca5336901bf9  4ee0de5b-e27f-4d73-a3c6-52cf26e36c54   \n",
       "1  4f91d2b6-bf42-4d3f-a8e8-acc3b07f647e  4ee0de5b-e27f-4d73-a3c6-52cf26e36c54   \n",
       "2  80f5b187-f6e6-40f2-9b6e-fe62b67049a8  d53234f4-1efb-4299-97c1-11658118cba5   \n",
       "3  02b2b662-1b39-4d91-9417-dddc9451d8e1  19e4db13-d854-4913-a8ca-3612ee1a6071   \n",
       "4  06c496ee-e884-42f9-ba39-010a66ed5296  b5b679a5-e769-4d95-82a6-f75e439b1ef9   \n",
       "\n",
       "                           animation_id  duration  \\\n",
       "0  17dab81c-6180-4a4b-b539-91978a726cfd      5.34   \n",
       "1  6d7a0545-0bca-4bf4-a306-931e57d8ffe2      3.88   \n",
       "2  716c02df-bd3a-41c9-b2be-86fb74ff3255      5.15   \n",
       "3  b7bd5204-2976-4eb0-ab71-508a848bc325      6.50   \n",
       "4  17dab81c-6180-4a4b-b539-91978a726cfd      4.38   \n",
       "\n",
       "                                creator          created_at  num_shares  \\\n",
       "0  73ec1ac2-d148-45ac-94a8-9bdff51730d7 2021-08-04 10:42:39          12   \n",
       "1  0230f9af-e89f-4886-8322-52a38eaf991c 2021-11-27 10:06:43           3   \n",
       "2  fbf93fbf-a935-436f-8516-8acb863e779f 2021-02-26 04:18:53           4   \n",
       "3  f7a2adb8-44d7-4408-a2a9-3a593fc6d626 2021-11-27 02:08:02           9   \n",
       "4  d9f9538f-1b7e-4f35-805d-924b309d75d8 2021-11-17 11:06:32          14   \n",
       "\n",
       "                                game_id  is_ar  created_at_month  \n",
       "0  8bd4c7be-fe87-45ad-990d-d131cd3d9c77   True                 8  \n",
       "1  6ca0f645-a16b-42b0-9dc2-2ae952c83591   True                11  \n",
       "2  6ca0f645-a16b-42b0-9dc2-2ae952c83591   True                 2  \n",
       "3  8bd4c7be-fe87-45ad-990d-d131cd3d9c77  False                11  \n",
       "4  2609b6b5-3a08-451e-bce5-75fe506559d2  False                11  "
      ]
     },
     "execution_count": 259,
     "metadata": {},
     "output_type": "execute_result"
    }
   ],
   "source": [
    "video.head()"
   ]
  },
  {
   "cell_type": "code",
   "execution_count": 201,
   "id": "978c3059",
   "metadata": {},
   "outputs": [],
   "source": [
    "video_create_month = video.groupby('created_at_month').agg({'id': 'count', 'creator': 'nunique'})\n",
    "video_create_month = video_create_month.reset_index()\n",
    "video_create_month.rename(columns={'created_at_month':'month', 'id': 'num_video_created', \n",
    "                   'creator': 'active_creator'}, inplace=True)"
   ]
  },
  {
   "cell_type": "code",
   "execution_count": 202,
   "id": "ea5c1e90",
   "metadata": {},
   "outputs": [
    {
     "data": {
      "text/html": [
       "<div>\n",
       "<style scoped>\n",
       "    .dataframe tbody tr th:only-of-type {\n",
       "        vertical-align: middle;\n",
       "    }\n",
       "\n",
       "    .dataframe tbody tr th {\n",
       "        vertical-align: top;\n",
       "    }\n",
       "\n",
       "    .dataframe thead th {\n",
       "        text-align: right;\n",
       "    }\n",
       "</style>\n",
       "<table border=\"1\" class=\"dataframe\">\n",
       "  <thead>\n",
       "    <tr style=\"text-align: right;\">\n",
       "      <th></th>\n",
       "      <th>month</th>\n",
       "      <th>num_video_created</th>\n",
       "      <th>active_creator</th>\n",
       "    </tr>\n",
       "  </thead>\n",
       "  <tbody>\n",
       "    <tr>\n",
       "      <th>0</th>\n",
       "      <td>1</td>\n",
       "      <td>16</td>\n",
       "      <td>15</td>\n",
       "    </tr>\n",
       "    <tr>\n",
       "      <th>1</th>\n",
       "      <td>2</td>\n",
       "      <td>45</td>\n",
       "      <td>40</td>\n",
       "    </tr>\n",
       "    <tr>\n",
       "      <th>2</th>\n",
       "      <td>3</td>\n",
       "      <td>109</td>\n",
       "      <td>85</td>\n",
       "    </tr>\n",
       "    <tr>\n",
       "      <th>3</th>\n",
       "      <td>4</td>\n",
       "      <td>150</td>\n",
       "      <td>112</td>\n",
       "    </tr>\n",
       "    <tr>\n",
       "      <th>4</th>\n",
       "      <td>5</td>\n",
       "      <td>209</td>\n",
       "      <td>162</td>\n",
       "    </tr>\n",
       "    <tr>\n",
       "      <th>5</th>\n",
       "      <td>6</td>\n",
       "      <td>231</td>\n",
       "      <td>179</td>\n",
       "    </tr>\n",
       "    <tr>\n",
       "      <th>6</th>\n",
       "      <td>7</td>\n",
       "      <td>364</td>\n",
       "      <td>269</td>\n",
       "    </tr>\n",
       "    <tr>\n",
       "      <th>7</th>\n",
       "      <td>8</td>\n",
       "      <td>453</td>\n",
       "      <td>316</td>\n",
       "    </tr>\n",
       "    <tr>\n",
       "      <th>8</th>\n",
       "      <td>9</td>\n",
       "      <td>595</td>\n",
       "      <td>411</td>\n",
       "    </tr>\n",
       "    <tr>\n",
       "      <th>9</th>\n",
       "      <td>10</td>\n",
       "      <td>804</td>\n",
       "      <td>478</td>\n",
       "    </tr>\n",
       "    <tr>\n",
       "      <th>10</th>\n",
       "      <td>11</td>\n",
       "      <td>1108</td>\n",
       "      <td>597</td>\n",
       "    </tr>\n",
       "    <tr>\n",
       "      <th>11</th>\n",
       "      <td>12</td>\n",
       "      <td>916</td>\n",
       "      <td>438</td>\n",
       "    </tr>\n",
       "  </tbody>\n",
       "</table>\n",
       "</div>"
      ],
      "text/plain": [
       "    month  num_video_created  active_creator\n",
       "0       1                 16              15\n",
       "1       2                 45              40\n",
       "2       3                109              85\n",
       "3       4                150             112\n",
       "4       5                209             162\n",
       "5       6                231             179\n",
       "6       7                364             269\n",
       "7       8                453             316\n",
       "8       9                595             411\n",
       "9      10                804             478\n",
       "10     11               1108             597\n",
       "11     12                916             438"
      ]
     },
     "execution_count": 202,
     "metadata": {},
     "output_type": "execute_result"
    }
   ],
   "source": [
    "video_create_month"
   ]
  },
  {
   "cell_type": "code",
   "execution_count": 247,
   "id": "d2ceb7ea",
   "metadata": {},
   "outputs": [
    {
     "data": {
      "text/plain": [
       "Text(0.5, 1.0, 'Comparision Between Number of Videos Created and Number of Active Creators')"
      ]
     },
     "execution_count": 247,
     "metadata": {},
     "output_type": "execute_result"
    },
    {
     "data": {
      "image/png": "[encoded data removed]",
      "text/plain": [
       "<Figure size 432x288 with 1 Axes>"
      ]
     },
     "metadata": {
      "needs_background": "light"
     },
     "output_type": "display_data"
    }
   ],
   "source": [
    "video_create_month.set_index('month').plot()\n",
    "plt.xlabel('Month')\n",
    "plt.ylabel(\"Count\")\n",
    "plt.title(\"Comparision Between Number of Videos Created and Number of Active Creators\")"
   ]
  },
  {
   "cell_type": "markdown",
   "id": "ab386ef6",
   "metadata": {},
   "source": [
    "Number of videos created gradually increased towards the end of the year, with a surge in November."
   ]
  },
  {
   "cell_type": "code",
   "execution_count": 205,
   "id": "f20a4ace",
   "metadata": {},
   "outputs": [],
   "source": [
    "watchedVideo['dateTime'] = pd.to_datetime(watchedVideo['dateTime'])\n",
    "watchedVideo['month_watch'] = watchedVideo['dateTime'].dt.month"
   ]
  },
  {
   "cell_type": "code",
   "execution_count": 206,
   "id": "0b1b8a21",
   "metadata": {},
   "outputs": [
    {
     "data": {
      "text/html": [
       "<div>\n",
       "<style scoped>\n",
       "    .dataframe tbody tr th:only-of-type {\n",
       "        vertical-align: middle;\n",
       "    }\n",
       "\n",
       "    .dataframe tbody tr th {\n",
       "        vertical-align: top;\n",
       "    }\n",
       "\n",
       "    .dataframe thead th {\n",
       "        text-align: right;\n",
       "    }\n",
       "</style>\n",
       "<table border=\"1\" class=\"dataframe\">\n",
       "  <thead>\n",
       "    <tr style=\"text-align: right;\">\n",
       "      <th></th>\n",
       "      <th>Unnamed: 0</th>\n",
       "      <th>coordinates</th>\n",
       "      <th>os</th>\n",
       "      <th>duration</th>\n",
       "      <th>videoId</th>\n",
       "      <th>userId</th>\n",
       "      <th>appVersion</th>\n",
       "      <th>dateTime</th>\n",
       "      <th>feedId</th>\n",
       "      <th>month_watch</th>\n",
       "    </tr>\n",
       "  </thead>\n",
       "  <tbody>\n",
       "    <tr>\n",
       "      <th>0</th>\n",
       "      <td>0</td>\n",
       "      <td>(Decimal('14.439490'), Decimal('105.291233'))</td>\n",
       "      <td>iOS</td>\n",
       "      <td>3.95</td>\n",
       "      <td>722e110c-2f81-46aa-9c25-4d26fd77519f</td>\n",
       "      <td>317a2bc3-5f95-4d35-9a94-1f2f38424c4f</td>\n",
       "      <td>2.2.2</td>\n",
       "      <td>2021-08-04 09:39:07</td>\n",
       "      <td>30134b9e-1b79-43fb-b0c5-373af9237b2c</td>\n",
       "      <td>8</td>\n",
       "    </tr>\n",
       "    <tr>\n",
       "      <th>1</th>\n",
       "      <td>1</td>\n",
       "      <td>(Decimal('40.866935'), Decimal('-73.845013'))</td>\n",
       "      <td>iOS</td>\n",
       "      <td>5.95</td>\n",
       "      <td>cc10d153-37f9-42b5-8d78-2365908acf2b</td>\n",
       "      <td>db031c3d-69e4-4c06-91fe-e9be0a3c173c</td>\n",
       "      <td>2.2.1</td>\n",
       "      <td>2021-07-06 16:32:10</td>\n",
       "      <td>8078efe7-5bae-4528-9a66-b85904cc73ac</td>\n",
       "      <td>7</td>\n",
       "    </tr>\n",
       "    <tr>\n",
       "      <th>2</th>\n",
       "      <td>2</td>\n",
       "      <td>(Decimal('48.666850'), Decimal('9.359456'))</td>\n",
       "      <td>iOS</td>\n",
       "      <td>0.69</td>\n",
       "      <td>7f3f7fce-f2ec-4dfd-bac8-92dc7865a365</td>\n",
       "      <td>8fb18b66-f548-42a7-b394-c1be963cac29</td>\n",
       "      <td>2.2.0</td>\n",
       "      <td>2021-12-06 01:42:02</td>\n",
       "      <td>6894af29-56cc-4b4a-8ee6-be9b3cb3e7f1</td>\n",
       "      <td>12</td>\n",
       "    </tr>\n",
       "    <tr>\n",
       "      <th>3</th>\n",
       "      <td>3</td>\n",
       "      <td>(Decimal('5.172365'), Decimal('-74.439009'))</td>\n",
       "      <td>Android</td>\n",
       "      <td>2.81</td>\n",
       "      <td>8ffc47e3-32ce-4d24-a990-9baac556603b</td>\n",
       "      <td>960fb90e-eddc-478a-a64a-04b9dded3a05</td>\n",
       "      <td>2.1.2</td>\n",
       "      <td>2021-12-04 21:02:50</td>\n",
       "      <td>42568c8a-efbe-4293-81a3-513e33094ade</td>\n",
       "      <td>12</td>\n",
       "    </tr>\n",
       "    <tr>\n",
       "      <th>4</th>\n",
       "      <td>4</td>\n",
       "      <td>(Decimal('4.063707'), Decimal('9.606159'))</td>\n",
       "      <td>iOS</td>\n",
       "      <td>5.88</td>\n",
       "      <td>47e70477-7511-4bd0-801b-1651f951002f</td>\n",
       "      <td>1ce0c003-25e7-473f-8796-0fe04d6c275c</td>\n",
       "      <td>2.1.2</td>\n",
       "      <td>2021-11-28 16:12:39</td>\n",
       "      <td>582520b2-b30a-4ecb-b1b4-1806672fcfc4</td>\n",
       "      <td>11</td>\n",
       "    </tr>\n",
       "  </tbody>\n",
       "</table>\n",
       "</div>"
      ],
      "text/plain": [
       "   Unnamed: 0                                    coordinates       os  \\\n",
       "0           0  (Decimal('14.439490'), Decimal('105.291233'))      iOS   \n",
       "1           1  (Decimal('40.866935'), Decimal('-73.845013'))      iOS   \n",
       "2           2    (Decimal('48.666850'), Decimal('9.359456'))      iOS   \n",
       "3           3   (Decimal('5.172365'), Decimal('-74.439009'))  Android   \n",
       "4           4     (Decimal('4.063707'), Decimal('9.606159'))      iOS   \n",
       "\n",
       "   duration                               videoId  \\\n",
       "0      3.95  722e110c-2f81-46aa-9c25-4d26fd77519f   \n",
       "1      5.95  cc10d153-37f9-42b5-8d78-2365908acf2b   \n",
       "2      0.69  7f3f7fce-f2ec-4dfd-bac8-92dc7865a365   \n",
       "3      2.81  8ffc47e3-32ce-4d24-a990-9baac556603b   \n",
       "4      5.88  47e70477-7511-4bd0-801b-1651f951002f   \n",
       "\n",
       "                                 userId appVersion            dateTime  \\\n",
       "0  317a2bc3-5f95-4d35-9a94-1f2f38424c4f      2.2.2 2021-08-04 09:39:07   \n",
       "1  db031c3d-69e4-4c06-91fe-e9be0a3c173c      2.2.1 2021-07-06 16:32:10   \n",
       "2  8fb18b66-f548-42a7-b394-c1be963cac29      2.2.0 2021-12-06 01:42:02   \n",
       "3  960fb90e-eddc-478a-a64a-04b9dded3a05      2.1.2 2021-12-04 21:02:50   \n",
       "4  1ce0c003-25e7-473f-8796-0fe04d6c275c      2.1.2 2021-11-28 16:12:39   \n",
       "\n",
       "                                 feedId  month_watch  \n",
       "0  30134b9e-1b79-43fb-b0c5-373af9237b2c            8  \n",
       "1  8078efe7-5bae-4528-9a66-b85904cc73ac            7  \n",
       "2  6894af29-56cc-4b4a-8ee6-be9b3cb3e7f1           12  \n",
       "3  42568c8a-efbe-4293-81a3-513e33094ade           12  \n",
       "4  582520b2-b30a-4ecb-b1b4-1806672fcfc4           11  "
      ]
     },
     "execution_count": 206,
     "metadata": {},
     "output_type": "execute_result"
    }
   ],
   "source": [
    "watchedVideo.head()"
   ]
  },
  {
   "cell_type": "code",
   "execution_count": 207,
   "id": "0d356a51",
   "metadata": {},
   "outputs": [],
   "source": [
    "watch_vid_month = watchedVideo.groupby('month_watch').agg({'videoId': 'count', 'userId': 'nunique'})\n",
    "watch_vid_month = watch_vid_month.reset_index()\n",
    "watch_vid_month.rename(columns = {'userId': 'active_watcher'}, inplace=True)"
   ]
  },
  {
   "cell_type": "code",
   "execution_count": 209,
   "id": "5121145d",
   "metadata": {},
   "outputs": [],
   "source": [
    "vid_engagement = video_create_month.merge(watch_vid_month, left_on = 'month', right_on = 'month_watch')"
   ]
  },
  {
   "cell_type": "code",
   "execution_count": 211,
   "id": "9fdbd5cd",
   "metadata": {},
   "outputs": [
    {
     "name": "stderr",
     "output_type": "stream",
     "text": [
      "/Users/phuongtran/opt/anaconda3/lib/python3.9/site-packages/pandas/core/frame.py:5039: SettingWithCopyWarning: \n",
      "A value is trying to be set on a copy of a slice from a DataFrame\n",
      "\n",
      "See the caveats in the documentation: https://pandas.pydata.org/pandas-docs/stable/user_guide/indexing.html#returning-a-view-versus-a-copy\n",
      "  return super().rename(\n"
     ]
    }
   ],
   "source": [
    "vid_engagement = vid_engagement[['month', 'num_video_created', 'active_creator', 'videoId', 'active_watcher']]\n",
    "vid_engagement.rename(columns={'videoId': 'num_video_watched'}, inplace=True)"
   ]
  },
  {
   "cell_type": "code",
   "execution_count": 213,
   "id": "deeb5043",
   "metadata": {},
   "outputs": [],
   "source": [
    "vid_engagement['vid_watched_per_user'] = vid_engagement['num_video_watched'] / vid_engagement['active_watcher']\n",
    "vid_engagement['vid_created_per_user'] = vid_engagement['num_video_created'] / vid_engagement['active_creator']"
   ]
  },
  {
   "cell_type": "code",
   "execution_count": 214,
   "id": "7550f448",
   "metadata": {},
   "outputs": [
    {
     "data": {
      "text/html": [
       "<div>\n",
       "<style scoped>\n",
       "    .dataframe tbody tr th:only-of-type {\n",
       "        vertical-align: middle;\n",
       "    }\n",
       "\n",
       "    .dataframe tbody tr th {\n",
       "        vertical-align: top;\n",
       "    }\n",
       "\n",
       "    .dataframe thead th {\n",
       "        text-align: right;\n",
       "    }\n",
       "</style>\n",
       "<table border=\"1\" class=\"dataframe\">\n",
       "  <thead>\n",
       "    <tr style=\"text-align: right;\">\n",
       "      <th></th>\n",
       "      <th>month</th>\n",
       "      <th>num_video_created</th>\n",
       "      <th>active_creator</th>\n",
       "      <th>num_video_watched</th>\n",
       "      <th>active_watcher</th>\n",
       "      <th>vid_watched_per_user</th>\n",
       "      <th>vid_created_per_user</th>\n",
       "    </tr>\n",
       "  </thead>\n",
       "  <tbody>\n",
       "    <tr>\n",
       "      <th>0</th>\n",
       "      <td>1</td>\n",
       "      <td>16</td>\n",
       "      <td>15</td>\n",
       "      <td>1</td>\n",
       "      <td>1</td>\n",
       "      <td>1.000000</td>\n",
       "      <td>1.066667</td>\n",
       "    </tr>\n",
       "    <tr>\n",
       "      <th>1</th>\n",
       "      <td>2</td>\n",
       "      <td>45</td>\n",
       "      <td>40</td>\n",
       "      <td>8</td>\n",
       "      <td>8</td>\n",
       "      <td>1.000000</td>\n",
       "      <td>1.125000</td>\n",
       "    </tr>\n",
       "    <tr>\n",
       "      <th>2</th>\n",
       "      <td>3</td>\n",
       "      <td>109</td>\n",
       "      <td>85</td>\n",
       "      <td>25</td>\n",
       "      <td>24</td>\n",
       "      <td>1.041667</td>\n",
       "      <td>1.282353</td>\n",
       "    </tr>\n",
       "    <tr>\n",
       "      <th>3</th>\n",
       "      <td>4</td>\n",
       "      <td>150</td>\n",
       "      <td>112</td>\n",
       "      <td>80</td>\n",
       "      <td>74</td>\n",
       "      <td>1.081081</td>\n",
       "      <td>1.339286</td>\n",
       "    </tr>\n",
       "    <tr>\n",
       "      <th>4</th>\n",
       "      <td>5</td>\n",
       "      <td>209</td>\n",
       "      <td>162</td>\n",
       "      <td>213</td>\n",
       "      <td>161</td>\n",
       "      <td>1.322981</td>\n",
       "      <td>1.290123</td>\n",
       "    </tr>\n",
       "    <tr>\n",
       "      <th>5</th>\n",
       "      <td>6</td>\n",
       "      <td>231</td>\n",
       "      <td>179</td>\n",
       "      <td>385</td>\n",
       "      <td>268</td>\n",
       "      <td>1.436567</td>\n",
       "      <td>1.290503</td>\n",
       "    </tr>\n",
       "    <tr>\n",
       "      <th>6</th>\n",
       "      <td>7</td>\n",
       "      <td>364</td>\n",
       "      <td>269</td>\n",
       "      <td>817</td>\n",
       "      <td>434</td>\n",
       "      <td>1.882488</td>\n",
       "      <td>1.353160</td>\n",
       "    </tr>\n",
       "    <tr>\n",
       "      <th>7</th>\n",
       "      <td>8</td>\n",
       "      <td>453</td>\n",
       "      <td>316</td>\n",
       "      <td>1696</td>\n",
       "      <td>624</td>\n",
       "      <td>2.717949</td>\n",
       "      <td>1.433544</td>\n",
       "    </tr>\n",
       "    <tr>\n",
       "      <th>8</th>\n",
       "      <td>9</td>\n",
       "      <td>595</td>\n",
       "      <td>411</td>\n",
       "      <td>3122</td>\n",
       "      <td>762</td>\n",
       "      <td>4.097113</td>\n",
       "      <td>1.447689</td>\n",
       "    </tr>\n",
       "    <tr>\n",
       "      <th>9</th>\n",
       "      <td>10</td>\n",
       "      <td>804</td>\n",
       "      <td>478</td>\n",
       "      <td>6312</td>\n",
       "      <td>856</td>\n",
       "      <td>7.373832</td>\n",
       "      <td>1.682008</td>\n",
       "    </tr>\n",
       "    <tr>\n",
       "      <th>10</th>\n",
       "      <td>11</td>\n",
       "      <td>1108</td>\n",
       "      <td>597</td>\n",
       "      <td>14584</td>\n",
       "      <td>958</td>\n",
       "      <td>15.223382</td>\n",
       "      <td>1.855946</td>\n",
       "    </tr>\n",
       "    <tr>\n",
       "      <th>11</th>\n",
       "      <td>12</td>\n",
       "      <td>916</td>\n",
       "      <td>438</td>\n",
       "      <td>22757</td>\n",
       "      <td>1000</td>\n",
       "      <td>22.757000</td>\n",
       "      <td>2.091324</td>\n",
       "    </tr>\n",
       "  </tbody>\n",
       "</table>\n",
       "</div>"
      ],
      "text/plain": [
       "    month  num_video_created  active_creator  num_video_watched  \\\n",
       "0       1                 16              15                  1   \n",
       "1       2                 45              40                  8   \n",
       "2       3                109              85                 25   \n",
       "3       4                150             112                 80   \n",
       "4       5                209             162                213   \n",
       "5       6                231             179                385   \n",
       "6       7                364             269                817   \n",
       "7       8                453             316               1696   \n",
       "8       9                595             411               3122   \n",
       "9      10                804             478               6312   \n",
       "10     11               1108             597              14584   \n",
       "11     12                916             438              22757   \n",
       "\n",
       "    active_watcher  vid_watched_per_user  vid_created_per_user  \n",
       "0                1              1.000000              1.066667  \n",
       "1                8              1.000000              1.125000  \n",
       "2               24              1.041667              1.282353  \n",
       "3               74              1.081081              1.339286  \n",
       "4              161              1.322981              1.290123  \n",
       "5              268              1.436567              1.290503  \n",
       "6              434              1.882488              1.353160  \n",
       "7              624              2.717949              1.433544  \n",
       "8              762              4.097113              1.447689  \n",
       "9              856              7.373832              1.682008  \n",
       "10             958             15.223382              1.855946  \n",
       "11            1000             22.757000              2.091324  "
      ]
     },
     "execution_count": 214,
     "metadata": {},
     "output_type": "execute_result"
    }
   ],
   "source": [
    "vid_engagement"
   ]
  },
  {
   "cell_type": "code",
   "execution_count": 251,
   "id": "637ddec1",
   "metadata": {},
   "outputs": [
    {
     "data": {
      "text/plain": [
       "Text(0.5, 1.0, 'User Engagement -- Video Watched')"
      ]
     },
     "execution_count": 251,
     "metadata": {},
     "output_type": "execute_result"
    },
    {
     "data": {
      "image/png": "[encoded data removed]",
      "text/plain": [
       "<Figure size 432x288 with 1 Axes>"
      ]
     },
     "metadata": {
      "needs_background": "light"
     },
     "output_type": "display_data"
    }
   ],
   "source": [
    "vid_engagement.plot(x=\"month\", y=[\"num_video_watched\", 'active_watcher'])\n",
    "plt.xlabel('Month')\n",
    "plt.ylabel(\"Count\")\n",
    "plt.title(\"User Engagement -- Video Watched\")"
   ]
  },
  {
   "cell_type": "code",
   "execution_count": 253,
   "id": "3bdb9e24",
   "metadata": {},
   "outputs": [
    {
     "data": {
      "text/plain": [
       "Text(0.5, 1.0, 'User Engagement -- Number of Video per User')"
      ]
     },
     "execution_count": 253,
     "metadata": {},
     "output_type": "execute_result"
    },
    {
     "data": {
      "image/png": "[encoded data removed]",
      "text/plain": [
       "<Figure size 432x288 with 1 Axes>"
      ]
     },
     "metadata": {
      "needs_background": "light"
     },
     "output_type": "display_data"
    }
   ],
   "source": [
    "vid_engagement.plot(x=\"month\", y=[\"vid_watched_per_user\", \"vid_created_per_user\"])\n",
    "plt.xlabel('Month')\n",
    "plt.ylabel(\"Count\")\n",
    "plt.title(\"User Engagement -- Number of Video per User\")"
   ]
  },
  {
   "cell_type": "markdown",
   "id": "38ec99e3",
   "metadata": {},
   "source": [
    "### Engagement analysis -- Day of Week"
   ]
  },
  {
   "cell_type": "code",
   "execution_count": 39,
   "id": "ca2f6252",
   "metadata": {},
   "outputs": [],
   "source": [
    "watchedVideo['day_of_week_video_watched'] = watchedVideo['dateTime'].dt.day_name()"
   ]
  },
  {
   "cell_type": "code",
   "execution_count": 40,
   "id": "c45e5357",
   "metadata": {},
   "outputs": [],
   "source": [
    "cats = [ 'Monday', 'Tuesday', 'Wednesday', 'Thursday', 'Friday', 'Saturday', 'Sunday']\n",
    "watch_vid_day = watchedVideo.groupby('day_of_week_video_watched').agg({'videoId': 'count', 'duration': 'sum'})\n",
    "watch_vid_day = watch_vid_day.reset_index()\n",
    "watch_vid_day = watch_vid_day.set_index('day_of_week_video_watched').reindex(cats).reset_index()"
   ]
  },
  {
   "cell_type": "code",
   "execution_count": 41,
   "id": "0284ea48",
   "metadata": {},
   "outputs": [
    {
     "data": {
      "text/html": [
       "<div>\n",
       "<style scoped>\n",
       "    .dataframe tbody tr th:only-of-type {\n",
       "        vertical-align: middle;\n",
       "    }\n",
       "\n",
       "    .dataframe tbody tr th {\n",
       "        vertical-align: top;\n",
       "    }\n",
       "\n",
       "    .dataframe thead th {\n",
       "        text-align: right;\n",
       "    }\n",
       "</style>\n",
       "<table border=\"1\" class=\"dataframe\">\n",
       "  <thead>\n",
       "    <tr style=\"text-align: right;\">\n",
       "      <th></th>\n",
       "      <th>day_of_week_video_watched</th>\n",
       "      <th>total_vid_watch</th>\n",
       "      <th>duration</th>\n",
       "      <th>avg_time_per_vid</th>\n",
       "    </tr>\n",
       "  </thead>\n",
       "  <tbody>\n",
       "    <tr>\n",
       "      <th>0</th>\n",
       "      <td>Monday</td>\n",
       "      <td>7489</td>\n",
       "      <td>25628.45</td>\n",
       "      <td>3.422146</td>\n",
       "    </tr>\n",
       "    <tr>\n",
       "      <th>1</th>\n",
       "      <td>Tuesday</td>\n",
       "      <td>8382</td>\n",
       "      <td>28689.55</td>\n",
       "      <td>3.422757</td>\n",
       "    </tr>\n",
       "    <tr>\n",
       "      <th>2</th>\n",
       "      <td>Wednesday</td>\n",
       "      <td>8429</td>\n",
       "      <td>28756.02</td>\n",
       "      <td>3.411558</td>\n",
       "    </tr>\n",
       "    <tr>\n",
       "      <th>3</th>\n",
       "      <td>Thursday</td>\n",
       "      <td>5840</td>\n",
       "      <td>19778.12</td>\n",
       "      <td>3.386664</td>\n",
       "    </tr>\n",
       "    <tr>\n",
       "      <th>4</th>\n",
       "      <td>Friday</td>\n",
       "      <td>6308</td>\n",
       "      <td>21538.76</td>\n",
       "      <td>3.414515</td>\n",
       "    </tr>\n",
       "    <tr>\n",
       "      <th>5</th>\n",
       "      <td>Saturday</td>\n",
       "      <td>6552</td>\n",
       "      <td>22197.52</td>\n",
       "      <td>3.387900</td>\n",
       "    </tr>\n",
       "    <tr>\n",
       "      <th>6</th>\n",
       "      <td>Sunday</td>\n",
       "      <td>7000</td>\n",
       "      <td>23923.07</td>\n",
       "      <td>3.417581</td>\n",
       "    </tr>\n",
       "  </tbody>\n",
       "</table>\n",
       "</div>"
      ],
      "text/plain": [
       "  day_of_week_video_watched  total_vid_watch  duration  avg_time_per_vid\n",
       "0                    Monday             7489  25628.45          3.422146\n",
       "1                   Tuesday             8382  28689.55          3.422757\n",
       "2                 Wednesday             8429  28756.02          3.411558\n",
       "3                  Thursday             5840  19778.12          3.386664\n",
       "4                    Friday             6308  21538.76          3.414515\n",
       "5                  Saturday             6552  22197.52          3.387900\n",
       "6                    Sunday             7000  23923.07          3.417581"
      ]
     },
     "execution_count": 41,
     "metadata": {},
     "output_type": "execute_result"
    }
   ],
   "source": [
    "watch_vid_day.rename(columns={'videoId':'total_vid_watch'}, inplace=True)\n",
    "watch_vid_day['avg_time_per_vid'] = watch_vid_day['duration'] / watch_vid_day['total_vid_watch']\n",
    "watch_vid_day"
   ]
  },
  {
   "cell_type": "code",
   "execution_count": 42,
   "id": "0a8f5063",
   "metadata": {},
   "outputs": [
    {
     "data": {
      "text/plain": [
       "<AxesSubplot:xlabel='day_of_week_video_watched'>"
      ]
     },
     "execution_count": 42,
     "metadata": {},
     "output_type": "execute_result"
    },
    {
     "data": {
      "image/png": "[encoded data removed]",
      "text/plain": [
       "<Figure size 432x288 with 1 Axes>"
      ]
     },
     "metadata": {
      "needs_background": "light"
     },
     "output_type": "display_data"
    }
   ],
   "source": [
    "watch_vid_day.set_index('day_of_week_video_watched').plot()"
   ]
  }
 ],
 "metadata": {
  "kernelspec": {
   "display_name": "Python 3 (ipykernel)",
   "language": "python",
   "name": "python3"
  },
  "language_info": {
   "codemirror_mode": {
    "name": "ipython",
    "version": 3
   },
   "file_extension": ".py",
   "mimetype": "text/x-python",
   "name": "python",
   "nbconvert_exporter": "python",
   "pygments_lexer": "ipython3",
   "version": "3.9.7"
  }
 },
 "nbformat": 4,
 "nbformat_minor": 5
}
